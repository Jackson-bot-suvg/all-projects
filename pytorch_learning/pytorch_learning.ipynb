{
 "cells": [
  {
   "cell_type": "code",
   "execution_count": 10,
   "metadata": {},
   "outputs": [
    {
     "name": "stdout",
     "output_type": "stream",
     "text": [
      "True\n",
      "True\n"
     ]
    }
   ],
   "source": [
    "import torch\n",
    "print(torch.backends.mps.is_available())  # 检查 MPS 是否可用\n",
    "print(torch.backends.mps.is_built())     # 检查 PyTorch 是否支持 MPS"
   ]
  },
  {
   "cell_type": "code",
   "execution_count": 11,
   "metadata": {},
   "outputs": [
    {
     "name": "stdout",
     "output_type": "stream",
     "text": [
      "Help on class BlockingIOError in module builtins:\n",
      "\n",
      "class BlockingIOError(OSError)\n",
      " |  I/O operation would block.\n",
      " |  \n",
      " |  Method resolution order:\n",
      " |      BlockingIOError\n",
      " |      OSError\n",
      " |      Exception\n",
      " |      BaseException\n",
      " |      object\n",
      " |  \n",
      " |  Methods defined here:\n",
      " |  \n",
      " |  __init__(self, /, *args, **kwargs)\n",
      " |      Initialize self.  See help(type(self)) for accurate signature.\n",
      " |  \n",
      " |  ----------------------------------------------------------------------\n",
      " |  Methods inherited from OSError:\n",
      " |  \n",
      " |  __reduce__(...)\n",
      " |      Helper for pickle.\n",
      " |  \n",
      " |  __str__(self, /)\n",
      " |      Return str(self).\n",
      " |  \n",
      " |  ----------------------------------------------------------------------\n",
      " |  Static methods inherited from OSError:\n",
      " |  \n",
      " |  __new__(*args, **kwargs) from builtins.type\n",
      " |      Create and return a new object.  See help(type) for accurate signature.\n",
      " |  \n",
      " |  ----------------------------------------------------------------------\n",
      " |  Data descriptors inherited from OSError:\n",
      " |  \n",
      " |  characters_written\n",
      " |  \n",
      " |  errno\n",
      " |      POSIX exception code\n",
      " |  \n",
      " |  filename\n",
      " |      exception filename\n",
      " |  \n",
      " |  filename2\n",
      " |      second exception filename\n",
      " |  \n",
      " |  strerror\n",
      " |      exception strerror\n",
      " |  \n",
      " |  ----------------------------------------------------------------------\n",
      " |  Methods inherited from BaseException:\n",
      " |  \n",
      " |  __delattr__(self, name, /)\n",
      " |      Implement delattr(self, name).\n",
      " |  \n",
      " |  __getattribute__(self, name, /)\n",
      " |      Return getattr(self, name).\n",
      " |  \n",
      " |  __repr__(self, /)\n",
      " |      Return repr(self).\n",
      " |  \n",
      " |  __setattr__(self, name, value, /)\n",
      " |      Implement setattr(self, name, value).\n",
      " |  \n",
      " |  __setstate__(...)\n",
      " |  \n",
      " |  with_traceback(...)\n",
      " |      Exception.with_traceback(tb) --\n",
      " |      set self.__traceback__ to tb and return self.\n",
      " |  \n",
      " |  ----------------------------------------------------------------------\n",
      " |  Data descriptors inherited from BaseException:\n",
      " |  \n",
      " |  __cause__\n",
      " |      exception cause\n",
      " |  \n",
      " |  __context__\n",
      " |      exception context\n",
      " |  \n",
      " |  __dict__\n",
      " |  \n",
      " |  __suppress_context__\n",
      " |  \n",
      " |  __traceback__\n",
      " |  \n",
      " |  args\n",
      "\n"
     ]
    }
   ],
   "source": [
    "dir(torch)\n",
    "help(BlockingIOError)"
   ]
  },
  {
   "cell_type": "code",
   "execution_count": 12,
   "metadata": {},
   "outputs": [
    {
     "name": "stdout",
     "output_type": "stream",
     "text": [
      "Image type: <class 'numpy.ndarray'>\n",
      "Image shape: (512, 768, 3)\n"
     ]
    }
   ],
   "source": [
    "import numpy as np\n",
    "from PIL import Image\n",
    "from torch.utils.tensorboard import SummaryWriter\n",
    "\n",
    "# 初始化 SummaryWriter\n",
    "writer = SummaryWriter(\"logs\")\n",
    "\n",
    "# 加载图像并转换为 NumPy 数组\n",
    "image_path = \"data/train/ants/0013035.jpg\"\n",
    "img_PIL = Image.open(image_path)\n",
    "img_array = np.array(img_PIL)\n",
    "\n",
    "# 打印图像数组的类型和形状\n",
    "print(\"Image type:\", type(img_array))\n",
    "print(\"Image shape:\", img_array.shape)\n",
    "\n",
    "# 添加图像到 TensorBoard\n",
    "writer.add_image(\"test\", img_array, 1, dataformats='HWC')\n",
    "\n",
    "# 添加标量到 TensorBoard\n",
    "for i in range(100):\n",
    "    writer.add_scalar(\"y=2x\", 3 * i, i)\n",
    "\n",
    "# 关闭 SummaryWriter\n",
    "writer.close()"
   ]
  },
  {
   "cell_type": "code",
   "execution_count": 13,
   "metadata": {},
   "outputs": [],
   "source": [
    "import numpy as np\n",
    "from PIL import Image\n",
    "from torch.utils.tensorboard import SummaryWriter\n",
    "\n",
    "# 初始化 SummaryWriter\n",
    "writer = SummaryWriter(\"logs\")\n",
    "\n",
    "# 加载一张示例图片\n",
    "image_path = \"data/train/ants/0013035.jpg\" # 替换为您图片的实际路径\n",
    "img = Image.open(image_path)  # 使用 PIL 加载图片\n",
    "img_array = np.array(img)  # 转换为 NumPy 数组\n",
    "\n",
    "# 将图像记录到 TensorBoard\n",
    "writer.add_image(\"test\", img_array, global_step=2, dataformats='HWC')\n",
    "\n",
    "# 关闭 SummaryWriter\n",
    "writer.close()"
   ]
  },
  {
   "cell_type": "markdown",
   "metadata": {},
   "source": [
    "tranforms 结构与用法"
   ]
  },
  {
   "cell_type": "code",
   "execution_count": 14,
   "metadata": {},
   "outputs": [
    {
     "name": "stdout",
     "output_type": "stream",
     "text": [
      "tensor([[[0.3137, 0.3137, 0.3137,  ..., 0.3176, 0.3098, 0.2980],\n",
      "         [0.3176, 0.3176, 0.3176,  ..., 0.3176, 0.3098, 0.2980],\n",
      "         [0.3216, 0.3216, 0.3216,  ..., 0.3137, 0.3098, 0.3020],\n",
      "         ...,\n",
      "         [0.3412, 0.3412, 0.3373,  ..., 0.1725, 0.3725, 0.3529],\n",
      "         [0.3412, 0.3412, 0.3373,  ..., 0.3294, 0.3529, 0.3294],\n",
      "         [0.3412, 0.3412, 0.3373,  ..., 0.3098, 0.3059, 0.3294]],\n",
      "\n",
      "        [[0.5922, 0.5922, 0.5922,  ..., 0.5961, 0.5882, 0.5765],\n",
      "         [0.5961, 0.5961, 0.5961,  ..., 0.5961, 0.5882, 0.5765],\n",
      "         [0.6000, 0.6000, 0.6000,  ..., 0.5922, 0.5882, 0.5804],\n",
      "         ...,\n",
      "         [0.6275, 0.6275, 0.6235,  ..., 0.3608, 0.6196, 0.6157],\n",
      "         [0.6275, 0.6275, 0.6235,  ..., 0.5765, 0.6275, 0.5961],\n",
      "         [0.6275, 0.6275, 0.6235,  ..., 0.6275, 0.6235, 0.6314]],\n",
      "\n",
      "        [[0.9137, 0.9137, 0.9137,  ..., 0.9176, 0.9098, 0.8980],\n",
      "         [0.9176, 0.9176, 0.9176,  ..., 0.9176, 0.9098, 0.8980],\n",
      "         [0.9216, 0.9216, 0.9216,  ..., 0.9137, 0.9098, 0.9020],\n",
      "         ...,\n",
      "         [0.9294, 0.9294, 0.9255,  ..., 0.5529, 0.9216, 0.8941],\n",
      "         [0.9294, 0.9294, 0.9255,  ..., 0.8863, 1.0000, 0.9137],\n",
      "         [0.9294, 0.9294, 0.9255,  ..., 0.9490, 0.9804, 0.9137]]])\n"
     ]
    }
   ],
   "source": [
    "from torchvision import transforms\n",
    "from PIL import Image\n",
    "\n",
    "# 图片路径\n",
    "img_path = \"/Users/jacksonzhang/Desktop/program/pytorch_learning/data/train/ants/0013035.jpg\"\n",
    "pic = Image.open(img_path)  # 使用 PIL 加载图片\n",
    "\n",
    "# 定义转换\n",
    "tensor_trans = transforms.ToTensor()  # 将图片转换为 PyTorch 张量\n",
    "tensor_img = tensor_trans(pic)  # 应用转换\n",
    "print(tensor_img)  # 输出张量"
   ]
  },
  {
   "cell_type": "markdown",
   "metadata": {},
   "source": [
    "##Nominize"
   ]
  },
  {
   "cell_type": "code",
   "execution_count": 15,
   "metadata": {},
   "outputs": [
    {
     "name": "stdout",
     "output_type": "stream",
     "text": [
      "Original Tensor Value: 0.3137255012989044\n",
      "Normalized Tensor Value: -0.37254899740219116\n"
     ]
    }
   ],
   "source": [
    "import numpy as np\n",
    "from PIL import Image\n",
    "from torch.utils.tensorboard import SummaryWriter\n",
    "from torchvision import transforms\n",
    "\n",
    "# 初始化 TensorBoard\n",
    "writer = SummaryWriter(\"logs\")\n",
    "\n",
    "\n",
    "# ToTensor 转换\n",
    "trans_totensor = transforms.ToTensor()  # 将图像转换为 PyTorch 张量\n",
    "img_tensor = trans_totensor(img)  # 应用转换\n",
    "writer.add_image(\"ToTensor\", img_tensor)  # 将结果记录到 TensorBoard\n",
    "\n",
    "# 打印转换后的张量值\n",
    "print(\"Original Tensor Value:\", img_tensor[0][0][0].item())\n",
    "\n",
    "# Normalize 标准化\n",
    "trans_norm = transforms.Normalize([0.5, 0.5, 0.5], [0.5, 0.5, 0.5])  # 标准化\n",
    "img_norm = trans_norm(img_tensor)  # 应用标准化\n",
    "writer.add_image(\"Normalize\", img_norm)  # 将结果记录到 TensorBoard\n",
    "\n",
    "# 打印标准化后的张量值\n",
    "print(\"Normalized Tensor Value:\", img_norm[0][0][0].item())\n",
    "\n"
   ]
  },
  {
   "cell_type": "markdown",
   "metadata": {},
   "source": [
    "resize"
   ]
  },
  {
   "cell_type": "code",
   "execution_count": 16,
   "metadata": {},
   "outputs": [
    {
     "name": "stdout",
     "output_type": "stream",
     "text": [
      "Original Image Size: (768, 512)\n",
      "Resized Image Size: (512, 512)\n",
      "Resized Image Tensor: tensor([[[0.3137, 0.3137, 0.3176,  ..., 0.3137, 0.3137, 0.3020],\n",
      "         [0.3176, 0.3176, 0.3176,  ..., 0.3098, 0.3137, 0.3020],\n",
      "         [0.3216, 0.3216, 0.3176,  ..., 0.3059, 0.3137, 0.3059],\n",
      "         ...,\n",
      "         [0.3412, 0.3373, 0.3373,  ..., 0.0196, 0.2196, 0.3608],\n",
      "         [0.3412, 0.3373, 0.3373,  ..., 0.3490, 0.3373, 0.3373],\n",
      "         [0.3412, 0.3373, 0.3373,  ..., 0.3529, 0.3137, 0.3216]],\n",
      "\n",
      "        [[0.5922, 0.5922, 0.5961,  ..., 0.5922, 0.5922, 0.5804],\n",
      "         [0.5961, 0.5961, 0.5961,  ..., 0.5882, 0.5922, 0.5804],\n",
      "         [0.6000, 0.6000, 0.5961,  ..., 0.5843, 0.5922, 0.5843],\n",
      "         ...,\n",
      "         [0.6275, 0.6235, 0.6235,  ..., 0.1020, 0.4157, 0.6157],\n",
      "         [0.6275, 0.6235, 0.6235,  ..., 0.5373, 0.5882, 0.6078],\n",
      "         [0.6275, 0.6235, 0.6235,  ..., 0.6392, 0.6275, 0.6275]],\n",
      "\n",
      "        [[0.9137, 0.9137, 0.9176,  ..., 0.9137, 0.9137, 0.9020],\n",
      "         [0.9176, 0.9176, 0.9176,  ..., 0.9098, 0.9137, 0.9020],\n",
      "         [0.9216, 0.9216, 0.9176,  ..., 0.9059, 0.9137, 0.9059],\n",
      "         ...,\n",
      "         [0.9294, 0.9255, 0.9255,  ..., 0.1961, 0.6353, 0.9059],\n",
      "         [0.9294, 0.9255, 0.9255,  ..., 0.7922, 0.9098, 0.9451],\n",
      "         [0.9294, 0.9255, 0.9255,  ..., 0.9412, 0.9569, 0.9373]]])\n"
     ]
    }
   ],
   "source": [
    "\n",
    "# 打印原始图像尺寸\n",
    "print(\"Original Image Size:\", img.size)\n",
    "\n",
    "# 调整图像尺寸\n",
    "trans_resize = transforms.Resize((512, 512))  # 定义尺寸调整\n",
    "img_resize = trans_resize(img)  # 应用调整\n",
    "print(\"Resized Image Size:\", img_resize.size)  # 输出调整后的尺寸\n",
    "\n",
    "# 转换为张量\n",
    "trans_totensor = transforms.ToTensor()  # 定义 ToTensor 转换\n",
    "img_resize = trans_totensor(img_resize)  # 应用转换\n",
    "\n",
    "# 保存调整后的图像到 TensorBoard\n",
    "writer.add_image(\"Resize\", img_resize, 0)\n",
    "\n",
    "# 打印转换后的张量\n",
    "print(\"Resized Image Tensor:\", img_resize)\n",
    "\n",
    "# # 关闭 TensorBoard 写入器\n",
    "# writer.close()"
   ]
  },
  {
   "cell_type": "code",
   "execution_count": 17,
   "metadata": {},
   "outputs": [
    {
     "name": "stdout",
     "output_type": "stream",
     "text": [
      "Resized and Converted Tensor: tensor([[[0.3137, 0.3137, 0.3137,  ..., 0.3176, 0.3098, 0.2980],\n",
      "         [0.3176, 0.3176, 0.3176,  ..., 0.3176, 0.3098, 0.2980],\n",
      "         [0.3216, 0.3216, 0.3216,  ..., 0.3137, 0.3098, 0.3020],\n",
      "         ...,\n",
      "         [0.3412, 0.3412, 0.3373,  ..., 0.1725, 0.3725, 0.3529],\n",
      "         [0.3412, 0.3412, 0.3373,  ..., 0.3294, 0.3529, 0.3294],\n",
      "         [0.3412, 0.3412, 0.3373,  ..., 0.3098, 0.3059, 0.3294]],\n",
      "\n",
      "        [[0.5922, 0.5922, 0.5922,  ..., 0.5961, 0.5882, 0.5765],\n",
      "         [0.5961, 0.5961, 0.5961,  ..., 0.5961, 0.5882, 0.5765],\n",
      "         [0.6000, 0.6000, 0.6000,  ..., 0.5922, 0.5882, 0.5804],\n",
      "         ...,\n",
      "         [0.6275, 0.6275, 0.6235,  ..., 0.3608, 0.6196, 0.6157],\n",
      "         [0.6275, 0.6275, 0.6235,  ..., 0.5765, 0.6275, 0.5961],\n",
      "         [0.6275, 0.6275, 0.6235,  ..., 0.6275, 0.6235, 0.6314]],\n",
      "\n",
      "        [[0.9137, 0.9137, 0.9137,  ..., 0.9176, 0.9098, 0.8980],\n",
      "         [0.9176, 0.9176, 0.9176,  ..., 0.9176, 0.9098, 0.8980],\n",
      "         [0.9216, 0.9216, 0.9216,  ..., 0.9137, 0.9098, 0.9020],\n",
      "         ...,\n",
      "         [0.9294, 0.9294, 0.9255,  ..., 0.5529, 0.9216, 0.8941],\n",
      "         [0.9294, 0.9294, 0.9255,  ..., 0.8863, 1.0000, 0.9137],\n",
      "         [0.9294, 0.9294, 0.9255,  ..., 0.9490, 0.9804, 0.9137]]])\n"
     ]
    }
   ],
   "source": [
    "# 定义单一转换\n",
    "trans_resize_2 = transforms.Resize(512)  # 调整短边尺寸为 512\n",
    "trans_totensor = transforms.ToTensor()  # 将图像转换为张量\n",
    "\n",
    "# 定义组合转换\n",
    "trans_compose = transforms.Compose([trans_resize_2, trans_totensor])\n",
    "\n",
    "# 应用组合转换\n",
    "img_resize_2 = trans_compose(img)\n",
    "\n",
    "# 保存调整后的图像到 TensorBoard\n",
    "writer.add_image(\"Resize\", img_resize_2, 1)\n",
    "\n",
    "# 打印转换后的张量\n",
    "print(\"Resized and Converted Tensor:\", img_resize_2)\n",
    "\n",
    "# 关闭 TensorBoard 写入器\n",
    "writer.close()"
   ]
  },
  {
   "cell_type": "markdown",
   "metadata": {},
   "source": [
    "###random crop"
   ]
  },
  {
   "cell_type": "code",
   "execution_count": 18,
   "metadata": {},
   "outputs": [],
   "source": [
    "\n",
    "# 定义转换\n",
    "trans_random = transforms.RandomCrop(512)  # 随机裁剪\n",
    "trans_totensor = transforms.ToTensor()  # 转换为张量\n",
    "\n",
    "# 组合转换\n",
    "trans_compose_2 = transforms.Compose([trans_random, trans_totensor])\n",
    "\n",
    "# 生成多次随机裁剪结果并保存到 TensorBoard\n",
    "for i in range(10):\n",
    "    img_crop = trans_compose_2(img)  # 应用随机裁剪\n",
    "    writer.add_image(\"RandomCrop\", img_crop, i)  # 保存结果"
   ]
  }
 ],
 "metadata": {
  "kernelspec": {
   "display_name": "pytorch",
   "language": "python",
   "name": "python3"
  },
  "language_info": {
   "codemirror_mode": {
    "name": "ipython",
    "version": 3
   },
   "file_extension": ".py",
   "mimetype": "text/x-python",
   "name": "python",
   "nbconvert_exporter": "python",
   "pygments_lexer": "ipython3",
   "version": "3.9.20"
  }
 },
 "nbformat": 4,
 "nbformat_minor": 2
}
