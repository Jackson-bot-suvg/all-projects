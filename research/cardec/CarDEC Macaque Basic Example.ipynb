{
 "cells": [
  {
   "cell_type": "code",
   "execution_count": 1,
   "metadata": {},
   "outputs": [
    {
     "name": "stdout",
     "output_type": "stream",
     "text": [
      "✅ tensorflow is installed, version: 2.16.2\n",
      "✅ scanpy is installed, version: 1.9.8\n",
      "✅ pandas is installed, version: 2.2.2\n",
      "✅ scipy is installed, version: 1.11.2\n",
      "❌ scikit-learn is NOT installed!\n",
      "✅ louvain is installed, version: 0.8.2\n",
      "✅ numpy is installed, version: 1.26.4\n",
      "✅ h5py is installed, version: 3.12.1\n",
      "✅ matplotlib is installed, version: 3.8.4\n",
      "✅ seaborn is installed, version: 0.13.2\n"
     ]
    }
   ],
   "source": [
    "import importlib\n",
    "\n",
    "# List of required libraries\n",
    "libraries = [\n",
    "    \"tensorflow\", \"scanpy\", \"pandas\", \"scipy\", \"scikit-learn\",\n",
    "    \"louvain\", \"numpy\", \"h5py\", \"matplotlib\", \"seaborn\"\n",
    "]\n",
    "\n",
    "# Check each library\n",
    "for lib in libraries:\n",
    "    try:\n",
    "        module = importlib.import_module(lib)\n",
    "        version = getattr(module, \"__version__\", \"Unknown version\")\n",
    "        print(f\"✅ {lib} is installed, version: {version}\")\n",
    "    except ImportError:\n",
    "        print(f\"❌ {lib} is NOT installed!\")"
   ]
  },
  {
   "cell_type": "code",
   "execution_count": 2,
   "metadata": {
    "id": "W7GlQylhmlTz"
   },
   "outputs": [
    {
     "name": "stderr",
     "output_type": "stream",
     "text": [
      "2025-02-10 13:29:55.859356: I metal_plugin/src/device/metal_device.cc:1154] Metal device set to: Apple M4 Pro\n",
      "2025-02-10 13:29:55.859382: I metal_plugin/src/device/metal_device.cc:296] systemMemory: 24.00 GB\n",
      "2025-02-10 13:29:55.859390: I metal_plugin/src/device/metal_device.cc:313] maxCacheSize: 8.00 GB\n",
      "2025-02-10 13:29:55.859405: I tensorflow/core/common_runtime/pluggable_device/pluggable_device_factory.cc:305] Could not identify NUMA node of platform GPU ID 0, defaulting to 0. Your kernel may not have been built with NUMA support.\n",
      "2025-02-10 13:29:55.859414: I tensorflow/core/common_runtime/pluggable_device/pluggable_device_factory.cc:271] Created TensorFlow device (/job:localhost/replica:0/task:0/device:GPU:0 with 0 MB memory) -> physical PluggableDevice (device: 0, name: METAL, pci bus id: <undefined>)\n"
     ]
    }
   ],
   "source": [
    "\"\"\"Broadly useful python packages\"\"\"\n",
    "import pandas as pd\n",
    "import os\n",
    "import numpy as np\n",
    "import pickle\n",
    "from copy import deepcopy\n",
    "from shutil import move\n",
    "import warnings\n",
    "\n",
    "\"\"\"Machine learning and single cell packages\"\"\"\n",
    "import sklearn.metrics as metrics\n",
    "from sklearn.metrics import adjusted_rand_score as ari, normalized_mutual_info_score as nmi\n",
    "import scanpy as sc\n",
    "from anndata import AnnData\n",
    "\n",
    "\"\"\"CarDEC Package\"\"\"\n",
    "from CarDEC import CarDEC_API"
   ]
  },
  {
   "cell_type": "code",
   "execution_count": 3,
   "metadata": {
    "id": "W6V3sY2ZmlT2"
   },
   "outputs": [],
   "source": [
    "\"\"\"Miscellaneous useful functions\"\"\"\n",
    "\n",
    "def read_macaque(path):\n",
    "    \"\"\"A function to read and preprocess the macaque data\"\"\"\n",
    "    adata = sc.read(path)\n",
    "    sc.pp.filter_cells(adata, min_genes=0)\n",
    "    sc.pp.filter_genes(adata, min_cells=30)\n",
    "    \n",
    "    adata = adata[adata.obs['n_genes'] < 2500, :]\n",
    "    \n",
    "    return(adata)\n",
    "\n",
    "def purity_score(y_true, y_pred):\n",
    "    \"\"\"A function to compute cluster purity\"\"\"\n",
    "    # compute contingency matrix (also called confusion matrix)\n",
    "    contingency_matrix = metrics.cluster.contingency_matrix(y_true, y_pred)\n",
    "\n",
    "    return np.sum(np.amax(contingency_matrix, axis=0)) / np.sum(contingency_matrix)\n",
    "\n",
    "def find_resolution(adata_, n_clusters, random = 0): \n",
    "    adata = adata_.copy()\n",
    "    obtained_clusters = -1\n",
    "    iteration = 0\n",
    "    resolutions = [0., 1000.]\n",
    "    \n",
    "    while obtained_clusters != n_clusters and iteration < 50:\n",
    "        current_res = sum(resolutions)/2\n",
    "        sc.tl.louvain(adata, resolution = current_res, random_state = random)\n",
    "        labels = adata.obs['louvain']\n",
    "        obtained_clusters = len(np.unique(labels))\n",
    "        \n",
    "        if obtained_clusters < n_clusters:\n",
    "            resolutions[0] = current_res\n",
    "        else:\n",
    "            resolutions[1] = current_res\n",
    "        \n",
    "        iteration = iteration + 1\n",
    "        \n",
    "    return current_res\n",
    "\n",
    "metrics_ = [ari, nmi, purity_score]"
   ]
  },
  {
   "cell_type": "markdown",
   "metadata": {
    "id": "G4jy5VRpmlT4"
   },
   "source": [
    "In the following cell, we read in the data."
   ]
  },
  {
   "cell_type": "code",
   "execution_count": 4,
   "metadata": {
    "id": "fFc4M-jXmlT5"
   },
   "outputs": [
    {
     "name": "stderr",
     "output_type": "stream",
     "text": [
      "/opt/anaconda3/envs/cardec/lib/python3.10/site-packages/anndata/__init__.py:51: FutureWarning: `anndata.read` is deprecated, use `anndata.read_h5ad` instead. `ad.read` will be removed in mid 2024.\n",
      "  warnings.warn(\n"
     ]
    }
   ],
   "source": [
    "\"\"\"Read and normalize the data\"\"\"\n",
    "adata = read_macaque(\"macaque_bc.h5ad\")"
   ]
  },
  {
   "cell_type": "markdown",
   "metadata": {
    "id": "7VB6HrpjmlT7"
   },
   "source": [
    "Now, intialize the CarDEC class. Doing so will normalize the dataset. The results will be stored in an anndata object, referenced by CarDEC.dataset"
   ]
  },
  {
   "cell_type": "code",
   "execution_count": 5,
   "metadata": {
    "id": "mqRy8GM-mlT7",
    "outputId": "330d1a6f-11a5-4e0f-edd5-9dd19b13538f"
   },
   "outputs": [
    {
     "name": "stderr",
     "output_type": "stream",
     "text": [
      "/opt/anaconda3/envs/cardec/lib/python3.10/site-packages/scanpy/preprocessing/_simple.py:248: ImplicitModificationWarning: Trying to modify attribute `.var` of view, initializing view as actual.\n",
      "  adata.var['n_counts'] = number\n",
      "/opt/anaconda3/envs/cardec/lib/python3.10/site-packages/scanpy/preprocessing/_highly_variable_genes.py:226: FutureWarning: The default of observed=False is deprecated and will be changed to True in a future version of pandas. Pass observed=False to retain current behavior or observed=True to adopt the future default and silence this warning.\n",
      "  disp_grouped = df.groupby(\"mean_bin\")[\"dispersions\"]\n",
      "/opt/anaconda3/envs/cardec/lib/python3.10/site-packages/scanpy/preprocessing/_highly_variable_genes.py:226: FutureWarning: The default of observed=False is deprecated and will be changed to True in a future version of pandas. Pass observed=False to retain current behavior or observed=True to adopt the future default and silence this warning.\n",
      "  disp_grouped = df.groupby(\"mean_bin\")[\"dispersions\"]\n",
      "/opt/anaconda3/envs/cardec/lib/python3.10/site-packages/scanpy/preprocessing/_highly_variable_genes.py:226: FutureWarning: The default of observed=False is deprecated and will be changed to True in a future version of pandas. Pass observed=False to retain current behavior or observed=True to adopt the future default and silence this warning.\n",
      "  disp_grouped = df.groupby(\"mean_bin\")[\"dispersions\"]\n",
      "/opt/anaconda3/envs/cardec/lib/python3.10/site-packages/scanpy/preprocessing/_highly_variable_genes.py:226: FutureWarning: The default of observed=False is deprecated and will be changed to True in a future version of pandas. Pass observed=False to retain current behavior or observed=True to adopt the future default and silence this warning.\n",
      "  disp_grouped = df.groupby(\"mean_bin\")[\"dispersions\"]\n",
      "/opt/anaconda3/envs/cardec/lib/python3.10/site-packages/scanpy/preprocessing/_highly_variable_genes.py:226: FutureWarning: The default of observed=False is deprecated and will be changed to True in a future version of pandas. Pass observed=False to retain current behavior or observed=True to adopt the future default and silence this warning.\n",
      "  disp_grouped = df.groupby(\"mean_bin\")[\"dispersions\"]\n",
      "/opt/anaconda3/envs/cardec/lib/python3.10/site-packages/scanpy/preprocessing/_highly_variable_genes.py:226: FutureWarning: The default of observed=False is deprecated and will be changed to True in a future version of pandas. Pass observed=False to retain current behavior or observed=True to adopt the future default and silence this warning.\n",
      "  disp_grouped = df.groupby(\"mean_bin\")[\"dispersions\"]\n",
      "/opt/anaconda3/envs/cardec/lib/python3.10/site-packages/scanpy/preprocessing/_highly_variable_genes.py:226: FutureWarning: The default of observed=False is deprecated and will be changed to True in a future version of pandas. Pass observed=False to retain current behavior or observed=True to adopt the future default and silence this warning.\n",
      "  disp_grouped = df.groupby(\"mean_bin\")[\"dispersions\"]\n",
      "/opt/anaconda3/envs/cardec/lib/python3.10/site-packages/scanpy/preprocessing/_highly_variable_genes.py:226: FutureWarning: The default of observed=False is deprecated and will be changed to True in a future version of pandas. Pass observed=False to retain current behavior or observed=True to adopt the future default and silence this warning.\n",
      "  disp_grouped = df.groupby(\"mean_bin\")[\"dispersions\"]\n",
      "/opt/anaconda3/envs/cardec/lib/python3.10/site-packages/scanpy/preprocessing/_highly_variable_genes.py:226: FutureWarning: The default of observed=False is deprecated and will be changed to True in a future version of pandas. Pass observed=False to retain current behavior or observed=True to adopt the future default and silence this warning.\n",
      "  disp_grouped = df.groupby(\"mean_bin\")[\"dispersions\"]\n",
      "/opt/anaconda3/envs/cardec/lib/python3.10/site-packages/scanpy/preprocessing/_highly_variable_genes.py:226: FutureWarning: The default of observed=False is deprecated and will be changed to True in a future version of pandas. Pass observed=False to retain current behavior or observed=True to adopt the future default and silence this warning.\n",
      "  disp_grouped = df.groupby(\"mean_bin\")[\"dispersions\"]\n",
      "/opt/anaconda3/envs/cardec/lib/python3.10/site-packages/scanpy/preprocessing/_highly_variable_genes.py:226: FutureWarning: The default of observed=False is deprecated and will be changed to True in a future version of pandas. Pass observed=False to retain current behavior or observed=True to adopt the future default and silence this warning.\n",
      "  disp_grouped = df.groupby(\"mean_bin\")[\"dispersions\"]\n",
      "/opt/anaconda3/envs/cardec/lib/python3.10/site-packages/scanpy/preprocessing/_highly_variable_genes.py:226: FutureWarning: The default of observed=False is deprecated and will be changed to True in a future version of pandas. Pass observed=False to retain current behavior or observed=True to adopt the future default and silence this warning.\n",
      "  disp_grouped = df.groupby(\"mean_bin\")[\"dispersions\"]\n",
      "/opt/anaconda3/envs/cardec/lib/python3.10/site-packages/scanpy/preprocessing/_highly_variable_genes.py:226: FutureWarning: The default of observed=False is deprecated and will be changed to True in a future version of pandas. Pass observed=False to retain current behavior or observed=True to adopt the future default and silence this warning.\n",
      "  disp_grouped = df.groupby(\"mean_bin\")[\"dispersions\"]\n",
      "/opt/anaconda3/envs/cardec/lib/python3.10/site-packages/scanpy/preprocessing/_highly_variable_genes.py:226: FutureWarning: The default of observed=False is deprecated and will be changed to True in a future version of pandas. Pass observed=False to retain current behavior or observed=True to adopt the future default and silence this warning.\n",
      "  disp_grouped = df.groupby(\"mean_bin\")[\"dispersions\"]\n",
      "/opt/anaconda3/envs/cardec/lib/python3.10/site-packages/scanpy/preprocessing/_highly_variable_genes.py:226: FutureWarning: The default of observed=False is deprecated and will be changed to True in a future version of pandas. Pass observed=False to retain current behavior or observed=True to adopt the future default and silence this warning.\n",
      "  disp_grouped = df.groupby(\"mean_bin\")[\"dispersions\"]\n",
      "/opt/anaconda3/envs/cardec/lib/python3.10/site-packages/scanpy/preprocessing/_highly_variable_genes.py:226: FutureWarning: The default of observed=False is deprecated and will be changed to True in a future version of pandas. Pass observed=False to retain current behavior or observed=True to adopt the future default and silence this warning.\n",
      "  disp_grouped = df.groupby(\"mean_bin\")[\"dispersions\"]\n",
      "/opt/anaconda3/envs/cardec/lib/python3.10/site-packages/scanpy/preprocessing/_highly_variable_genes.py:226: FutureWarning: The default of observed=False is deprecated and will be changed to True in a future version of pandas. Pass observed=False to retain current behavior or observed=True to adopt the future default and silence this warning.\n",
      "  disp_grouped = df.groupby(\"mean_bin\")[\"dispersions\"]\n",
      "/opt/anaconda3/envs/cardec/lib/python3.10/site-packages/scanpy/preprocessing/_highly_variable_genes.py:226: FutureWarning: The default of observed=False is deprecated and will be changed to True in a future version of pandas. Pass observed=False to retain current behavior or observed=True to adopt the future default and silence this warning.\n",
      "  disp_grouped = df.groupby(\"mean_bin\")[\"dispersions\"]\n",
      "/opt/anaconda3/envs/cardec/lib/python3.10/site-packages/scanpy/preprocessing/_highly_variable_genes.py:226: FutureWarning: The default of observed=False is deprecated and will be changed to True in a future version of pandas. Pass observed=False to retain current behavior or observed=True to adopt the future default and silence this warning.\n",
      "  disp_grouped = df.groupby(\"mean_bin\")[\"dispersions\"]\n",
      "/opt/anaconda3/envs/cardec/lib/python3.10/site-packages/scanpy/preprocessing/_highly_variable_genes.py:226: FutureWarning: The default of observed=False is deprecated and will be changed to True in a future version of pandas. Pass observed=False to retain current behavior or observed=True to adopt the future default and silence this warning.\n",
      "  disp_grouped = df.groupby(\"mean_bin\")[\"dispersions\"]\n",
      "/opt/anaconda3/envs/cardec/lib/python3.10/site-packages/scanpy/preprocessing/_highly_variable_genes.py:226: FutureWarning: The default of observed=False is deprecated and will be changed to True in a future version of pandas. Pass observed=False to retain current behavior or observed=True to adopt the future default and silence this warning.\n",
      "  disp_grouped = df.groupby(\"mean_bin\")[\"dispersions\"]\n",
      "/opt/anaconda3/envs/cardec/lib/python3.10/site-packages/scanpy/preprocessing/_highly_variable_genes.py:226: FutureWarning: The default of observed=False is deprecated and will be changed to True in a future version of pandas. Pass observed=False to retain current behavior or observed=True to adopt the future default and silence this warning.\n",
      "  disp_grouped = df.groupby(\"mean_bin\")[\"dispersions\"]\n",
      "/opt/anaconda3/envs/cardec/lib/python3.10/site-packages/scanpy/preprocessing/_highly_variable_genes.py:226: FutureWarning: The default of observed=False is deprecated and will be changed to True in a future version of pandas. Pass observed=False to retain current behavior or observed=True to adopt the future default and silence this warning.\n",
      "  disp_grouped = df.groupby(\"mean_bin\")[\"dispersions\"]\n",
      "/opt/anaconda3/envs/cardec/lib/python3.10/site-packages/scanpy/preprocessing/_highly_variable_genes.py:226: FutureWarning: The default of observed=False is deprecated and will be changed to True in a future version of pandas. Pass observed=False to retain current behavior or observed=True to adopt the future default and silence this warning.\n",
      "  disp_grouped = df.groupby(\"mean_bin\")[\"dispersions\"]\n",
      "/opt/anaconda3/envs/cardec/lib/python3.10/site-packages/scanpy/preprocessing/_highly_variable_genes.py:226: FutureWarning: The default of observed=False is deprecated and will be changed to True in a future version of pandas. Pass observed=False to retain current behavior or observed=True to adopt the future default and silence this warning.\n",
      "  disp_grouped = df.groupby(\"mean_bin\")[\"dispersions\"]\n",
      "/opt/anaconda3/envs/cardec/lib/python3.10/site-packages/scanpy/preprocessing/_highly_variable_genes.py:226: FutureWarning: The default of observed=False is deprecated and will be changed to True in a future version of pandas. Pass observed=False to retain current behavior or observed=True to adopt the future default and silence this warning.\n",
      "  disp_grouped = df.groupby(\"mean_bin\")[\"dispersions\"]\n",
      "/opt/anaconda3/envs/cardec/lib/python3.10/site-packages/scanpy/preprocessing/_highly_variable_genes.py:226: FutureWarning: The default of observed=False is deprecated and will be changed to True in a future version of pandas. Pass observed=False to retain current behavior or observed=True to adopt the future default and silence this warning.\n",
      "  disp_grouped = df.groupby(\"mean_bin\")[\"dispersions\"]\n",
      "/opt/anaconda3/envs/cardec/lib/python3.10/site-packages/scanpy/preprocessing/_highly_variable_genes.py:226: FutureWarning: The default of observed=False is deprecated and will be changed to True in a future version of pandas. Pass observed=False to retain current behavior or observed=True to adopt the future default and silence this warning.\n",
      "  disp_grouped = df.groupby(\"mean_bin\")[\"dispersions\"]\n",
      "/opt/anaconda3/envs/cardec/lib/python3.10/site-packages/scanpy/preprocessing/_highly_variable_genes.py:226: FutureWarning: The default of observed=False is deprecated and will be changed to True in a future version of pandas. Pass observed=False to retain current behavior or observed=True to adopt the future default and silence this warning.\n",
      "  disp_grouped = df.groupby(\"mean_bin\")[\"dispersions\"]\n",
      "/opt/anaconda3/envs/cardec/lib/python3.10/site-packages/scanpy/preprocessing/_highly_variable_genes.py:226: FutureWarning: The default of observed=False is deprecated and will be changed to True in a future version of pandas. Pass observed=False to retain current behavior or observed=True to adopt the future default and silence this warning.\n",
      "  disp_grouped = df.groupby(\"mean_bin\")[\"dispersions\"]\n",
      "/opt/anaconda3/envs/cardec/lib/python3.10/site-packages/scanpy/preprocessing/_highly_variable_genes.py:508: FutureWarning: The provided callable <function nanmean at 0x1114f0ca0> is currently using SeriesGroupBy.mean. In a future version of pandas, the provided callable will be used directly. To keep current behavior pass the string \"mean\" instead.\n",
      "  df = df.groupby(\"gene\").agg(\n",
      "/opt/anaconda3/envs/cardec/lib/python3.10/site-packages/scanpy/preprocessing/_highly_variable_genes.py:508: FutureWarning: The provided callable <function nanmean at 0x1114f0ca0> is currently using SeriesGroupBy.mean. In a future version of pandas, the provided callable will be used directly. To keep current behavior pass the string \"mean\" instead.\n",
      "  df = df.groupby(\"gene\").agg(\n",
      "/opt/anaconda3/envs/cardec/lib/python3.10/site-packages/scanpy/preprocessing/_highly_variable_genes.py:508: FutureWarning: The provided callable <function nansum at 0x1114f0820> is currently using SeriesGroupBy.sum. In a future version of pandas, the provided callable will be used directly. To keep current behavior pass the string \"sum\" instead.\n",
      "  df = df.groupby(\"gene\").agg(\n",
      "/opt/anaconda3/envs/cardec/lib/python3.10/site-packages/scanpy/preprocessing/_simple.py:843: UserWarning: Received a view of an AnnData. Making a copy.\n",
      "  view_to_actual(adata)\n",
      "/opt/anaconda3/envs/cardec/lib/python3.10/site-packages/scanpy/preprocessing/_simple.py:843: UserWarning: Received a view of an AnnData. Making a copy.\n",
      "  view_to_actual(adata)\n",
      "/opt/anaconda3/envs/cardec/lib/python3.10/site-packages/scanpy/preprocessing/_simple.py:843: UserWarning: Received a view of an AnnData. Making a copy.\n",
      "  view_to_actual(adata)\n",
      "/opt/anaconda3/envs/cardec/lib/python3.10/site-packages/scanpy/preprocessing/_simple.py:843: UserWarning: Received a view of an AnnData. Making a copy.\n",
      "  view_to_actual(adata)\n",
      "/opt/anaconda3/envs/cardec/lib/python3.10/site-packages/scanpy/preprocessing/_simple.py:843: UserWarning: Received a view of an AnnData. Making a copy.\n",
      "  view_to_actual(adata)\n",
      "/opt/anaconda3/envs/cardec/lib/python3.10/site-packages/scanpy/preprocessing/_simple.py:843: UserWarning: Received a view of an AnnData. Making a copy.\n",
      "  view_to_actual(adata)\n",
      "/opt/anaconda3/envs/cardec/lib/python3.10/site-packages/scanpy/preprocessing/_simple.py:843: UserWarning: Received a view of an AnnData. Making a copy.\n",
      "  view_to_actual(adata)\n",
      "/opt/anaconda3/envs/cardec/lib/python3.10/site-packages/scanpy/preprocessing/_simple.py:843: UserWarning: Received a view of an AnnData. Making a copy.\n",
      "  view_to_actual(adata)\n",
      "/opt/anaconda3/envs/cardec/lib/python3.10/site-packages/scanpy/preprocessing/_simple.py:843: UserWarning: Received a view of an AnnData. Making a copy.\n",
      "  view_to_actual(adata)\n",
      "/opt/anaconda3/envs/cardec/lib/python3.10/site-packages/scanpy/preprocessing/_simple.py:843: UserWarning: Received a view of an AnnData. Making a copy.\n",
      "  view_to_actual(adata)\n",
      "/opt/anaconda3/envs/cardec/lib/python3.10/site-packages/scanpy/preprocessing/_simple.py:843: UserWarning: Received a view of an AnnData. Making a copy.\n",
      "  view_to_actual(adata)\n",
      "/opt/anaconda3/envs/cardec/lib/python3.10/site-packages/scanpy/preprocessing/_simple.py:843: UserWarning: Received a view of an AnnData. Making a copy.\n",
      "  view_to_actual(adata)\n",
      "/opt/anaconda3/envs/cardec/lib/python3.10/site-packages/scanpy/preprocessing/_simple.py:843: UserWarning: Received a view of an AnnData. Making a copy.\n",
      "  view_to_actual(adata)\n",
      "/opt/anaconda3/envs/cardec/lib/python3.10/site-packages/scanpy/preprocessing/_simple.py:843: UserWarning: Received a view of an AnnData. Making a copy.\n",
      "  view_to_actual(adata)\n",
      "/opt/anaconda3/envs/cardec/lib/python3.10/site-packages/scanpy/preprocessing/_simple.py:843: UserWarning: Received a view of an AnnData. Making a copy.\n",
      "  view_to_actual(adata)\n",
      "/opt/anaconda3/envs/cardec/lib/python3.10/site-packages/scanpy/preprocessing/_simple.py:843: UserWarning: Received a view of an AnnData. Making a copy.\n",
      "  view_to_actual(adata)\n",
      "/opt/anaconda3/envs/cardec/lib/python3.10/site-packages/scanpy/preprocessing/_simple.py:843: UserWarning: Received a view of an AnnData. Making a copy.\n",
      "  view_to_actual(adata)\n",
      "/opt/anaconda3/envs/cardec/lib/python3.10/site-packages/scanpy/preprocessing/_simple.py:843: UserWarning: Received a view of an AnnData. Making a copy.\n",
      "  view_to_actual(adata)\n",
      "/opt/anaconda3/envs/cardec/lib/python3.10/site-packages/scanpy/preprocessing/_simple.py:843: UserWarning: Received a view of an AnnData. Making a copy.\n",
      "  view_to_actual(adata)\n",
      "/opt/anaconda3/envs/cardec/lib/python3.10/site-packages/scanpy/preprocessing/_simple.py:843: UserWarning: Received a view of an AnnData. Making a copy.\n",
      "  view_to_actual(adata)\n",
      "/opt/anaconda3/envs/cardec/lib/python3.10/site-packages/scanpy/preprocessing/_simple.py:843: UserWarning: Received a view of an AnnData. Making a copy.\n",
      "  view_to_actual(adata)\n",
      "/opt/anaconda3/envs/cardec/lib/python3.10/site-packages/scanpy/preprocessing/_simple.py:843: UserWarning: Received a view of an AnnData. Making a copy.\n",
      "  view_to_actual(adata)\n",
      "/opt/anaconda3/envs/cardec/lib/python3.10/site-packages/scanpy/preprocessing/_simple.py:843: UserWarning: Received a view of an AnnData. Making a copy.\n",
      "  view_to_actual(adata)\n",
      "/opt/anaconda3/envs/cardec/lib/python3.10/site-packages/scanpy/preprocessing/_simple.py:843: UserWarning: Received a view of an AnnData. Making a copy.\n",
      "  view_to_actual(adata)\n",
      "/opt/anaconda3/envs/cardec/lib/python3.10/site-packages/scanpy/preprocessing/_simple.py:843: UserWarning: Received a view of an AnnData. Making a copy.\n",
      "  view_to_actual(adata)\n",
      "/opt/anaconda3/envs/cardec/lib/python3.10/site-packages/scanpy/preprocessing/_simple.py:843: UserWarning: Received a view of an AnnData. Making a copy.\n",
      "  view_to_actual(adata)\n",
      "/opt/anaconda3/envs/cardec/lib/python3.10/site-packages/scanpy/preprocessing/_simple.py:843: UserWarning: Received a view of an AnnData. Making a copy.\n",
      "  view_to_actual(adata)\n",
      "/opt/anaconda3/envs/cardec/lib/python3.10/site-packages/scanpy/preprocessing/_simple.py:843: UserWarning: Received a view of an AnnData. Making a copy.\n",
      "  view_to_actual(adata)\n",
      "/opt/anaconda3/envs/cardec/lib/python3.10/site-packages/scanpy/preprocessing/_simple.py:843: UserWarning: Received a view of an AnnData. Making a copy.\n",
      "  view_to_actual(adata)\n",
      "/opt/anaconda3/envs/cardec/lib/python3.10/site-packages/scanpy/preprocessing/_simple.py:843: UserWarning: Received a view of an AnnData. Making a copy.\n",
      "  view_to_actual(adata)\n"
     ]
    }
   ],
   "source": [
    "\"\"\"Args: \n",
    "    1. adata is the dataframe to work on\n",
    "    2. weights_dir: A directory in which to save weights for both the autoencoder pretrain step, and for the finetuned\n",
    "    CarDEC model. Weights are also loaded from this directory. If the directory doesn't exist, then it will be \n",
    "    created from scratch.\n",
    "    3. batch_key is the key in adata.obs that identifies the vector of cell batch assignments\n",
    "    4. n_high_var is the number of features to treat as highly variable. These features drive clustering. The top\n",
    "       n_high_var highly variable genes are identified with scanpy, using within batch variation\n",
    "    5. LVG: If True, then denoise low variance features too. Else, only denoise the high variance genes.\n",
    "\"\"\"\n",
    "\n",
    "CarDEC = CarDEC_API(adata, weights_dir = \"weights_dir/CarDEC_LVG Weights\", batch_key = \"sample\", n_high_var = 2000, LVG = True)"
   ]
  },
  {
   "cell_type": "markdown",
   "metadata": {
    "id": "oSSGPTBomlT-"
   },
   "source": [
    "## Fit the CarDEC Model"
   ]
  },
  {
   "cell_type": "markdown",
   "metadata": {
    "id": "g1jq8qDrmlT-"
   },
   "source": [
    "Now, build the model. If weights for the autoencoder do not exist in the weights directory, the autoencoder will be pretrained and its weights will be saved."
   ]
  },
  {
   "cell_type": "code",
   "execution_count": 6,
   "metadata": {
    "id": "Xq9DBHAPmlT_",
    "outputId": "c34a4265-3280-46f0-edfb-8d35278e8376"
   },
   "outputs": [
    {
     "name": "stdout",
     "output_type": "stream",
     "text": [
      "Pretrain weight index file not detected, pretraining autoencoder weights.\n",
      "\n",
      "Epoch 000: Training Loss: 0.927, Validation Loss: 0.909, Time: 11.5 s\n",
      "Epoch 001: Training Loss: 0.911, Validation Loss: 0.904, Time: 13.0 s\n",
      "Epoch 002: Training Loss: 0.905, Validation Loss: 0.900, Time: 12.9 s\n",
      "Epoch 003: Training Loss: 0.900, Validation Loss: 0.898, Time: 12.2 s\n",
      "Epoch 004: Training Loss: 0.897, Validation Loss: 0.896, Time: 12.5 s\n",
      "Epoch 005: Training Loss: 0.895, Validation Loss: 0.895, Time: 12.6 s\n",
      "Epoch 006: Training Loss: 0.892, Validation Loss: 0.894, Time: 12.7 s\n",
      "Epoch 007: Training Loss: 0.891, Validation Loss: 0.894, Time: 13.0 s\n",
      "Epoch 008: Training Loss: 0.890, Validation Loss: 0.893, Time: 13.0 s\n",
      "Epoch 009: Training Loss: 0.888, Validation Loss: 0.892, Time: 10.9 s\n",
      "\n",
      "Training Completed\n",
      "Total training time: 124.48 seconds\n",
      "Autoencoder weights loaded.\n",
      "\n",
      "Initializing cluster centroids using the louvain method.\n"
     ]
    },
    {
     "name": "stderr",
     "output_type": "stream",
     "text": [
      "/opt/anaconda3/envs/cardec/lib/python3.10/site-packages/tqdm/auto.py:21: TqdmWarning: IProgress not found. Please update jupyter and ipywidgets. See https://ipywidgets.readthedocs.io/en/stable/user_install.html\n",
      "  from .autonotebook import tqdm as notebook_tqdm\n"
     ]
    },
    {
     "name": "stdout",
     "output_type": "stream",
     "text": [
      "\n",
      " 11 clusters detected. \n",
      "\n",
      "\n",
      "-----------------------CarDEC Architecture-----------------------\n",
      "\n"
     ]
    },
    {
     "data": {
      "text/html": [
       "<pre style=\"white-space:pre;overflow-x:auto;line-height:normal;font-family:Menlo,'DejaVu Sans Mono',consolas,'Courier New',monospace\"><span style=\"font-weight: bold\">Model: \"car_dec__model\"</span>\n",
       "</pre>\n"
      ],
      "text/plain": [
       "\u001b[1mModel: \"car_dec__model\"\u001b[0m\n"
      ]
     },
     "metadata": {},
     "output_type": "display_data"
    },
    {
     "data": {
      "text/html": [
       "<pre style=\"white-space:pre;overflow-x:auto;line-height:normal;font-family:Menlo,'DejaVu Sans Mono',consolas,'Courier New',monospace\">┏━━━━━━━━━━━━━━━━━━━━━━━━━━━━━━━━━┳━━━━━━━━━━━━━━━━━━━━━━━━┳━━━━━━━━━━━━━━━┓\n",
       "┃<span style=\"font-weight: bold\"> Layer (type)                    </span>┃<span style=\"font-weight: bold\"> Output Shape           </span>┃<span style=\"font-weight: bold\">       Param # </span>┃\n",
       "┡━━━━━━━━━━━━━━━━━━━━━━━━━━━━━━━━━╇━━━━━━━━━━━━━━━━━━━━━━━━╇━━━━━━━━━━━━━━━┩\n",
       "│ sae (<span style=\"color: #0087ff; text-decoration-color: #0087ff\">SAE</span>)                       │ ?                      │       <span style=\"color: #00af00; text-decoration-color: #00af00\">522,480</span> │\n",
       "├─────────────────────────────────┼────────────────────────┼───────────────┤\n",
       "│ encoder (<span style=\"color: #0087ff; text-decoration-color: #0087ff\">Sequential</span>)            │ (<span style=\"color: #00af00; text-decoration-color: #00af00\">1</span>, <span style=\"color: #00af00; text-decoration-color: #00af00\">32</span>)                │       <span style=\"color: #00af00; text-decoration-color: #00af00\">260,256</span> │\n",
       "├─────────────────────────────────┼────────────────────────┼───────────────┤\n",
       "│ decoder (<span style=\"color: #0087ff; text-decoration-color: #0087ff\">Sequential</span>)            │ (<span style=\"color: #00af00; text-decoration-color: #00af00\">1</span>, <span style=\"color: #00af00; text-decoration-color: #00af00\">2000</span>)              │       <span style=\"color: #00af00; text-decoration-color: #00af00\">262,224</span> │\n",
       "├─────────────────────────────────┼────────────────────────┼───────────────┤\n",
       "│ encoderLVG (<span style=\"color: #0087ff; text-decoration-color: #0087ff\">Sequential</span>)         │ (<span style=\"color: #00af00; text-decoration-color: #00af00\">1</span>, <span style=\"color: #00af00; text-decoration-color: #00af00\">32</span>)                │     <span style=\"color: #00af00; text-decoration-color: #00af00\">2,062,880</span> │\n",
       "├─────────────────────────────────┼────────────────────────┼───────────────┤\n",
       "│ decoderLVG (<span style=\"color: #0087ff; text-decoration-color: #0087ff\">Sequential</span>)         │ (<span style=\"color: #00af00; text-decoration-color: #00af00\">1</span>, <span style=\"color: #00af00; text-decoration-color: #00af00\">16083</span>)             │     <span style=\"color: #00af00; text-decoration-color: #00af00\">2,083,027</span> │\n",
       "├─────────────────────────────────┼────────────────────────┼───────────────┤\n",
       "│ clustering (<span style=\"color: #0087ff; text-decoration-color: #0087ff\">ClusteringLayer</span>)    │ (<span style=\"color: #00af00; text-decoration-color: #00af00\">1</span>, <span style=\"color: #00af00; text-decoration-color: #00af00\">11</span>)                │           <span style=\"color: #00af00; text-decoration-color: #00af00\">352</span> │\n",
       "└─────────────────────────────────┴────────────────────────┴───────────────┘\n",
       "</pre>\n"
      ],
      "text/plain": [
       "┏━━━━━━━━━━━━━━━━━━━━━━━━━━━━━━━━━┳━━━━━━━━━━━━━━━━━━━━━━━━┳━━━━━━━━━━━━━━━┓\n",
       "┃\u001b[1m \u001b[0m\u001b[1mLayer (type)                   \u001b[0m\u001b[1m \u001b[0m┃\u001b[1m \u001b[0m\u001b[1mOutput Shape          \u001b[0m\u001b[1m \u001b[0m┃\u001b[1m \u001b[0m\u001b[1m      Param #\u001b[0m\u001b[1m \u001b[0m┃\n",
       "┡━━━━━━━━━━━━━━━━━━━━━━━━━━━━━━━━━╇━━━━━━━━━━━━━━━━━━━━━━━━╇━━━━━━━━━━━━━━━┩\n",
       "│ sae (\u001b[38;5;33mSAE\u001b[0m)                       │ ?                      │       \u001b[38;5;34m522,480\u001b[0m │\n",
       "├─────────────────────────────────┼────────────────────────┼───────────────┤\n",
       "│ encoder (\u001b[38;5;33mSequential\u001b[0m)            │ (\u001b[38;5;34m1\u001b[0m, \u001b[38;5;34m32\u001b[0m)                │       \u001b[38;5;34m260,256\u001b[0m │\n",
       "├─────────────────────────────────┼────────────────────────┼───────────────┤\n",
       "│ decoder (\u001b[38;5;33mSequential\u001b[0m)            │ (\u001b[38;5;34m1\u001b[0m, \u001b[38;5;34m2000\u001b[0m)              │       \u001b[38;5;34m262,224\u001b[0m │\n",
       "├─────────────────────────────────┼────────────────────────┼───────────────┤\n",
       "│ encoderLVG (\u001b[38;5;33mSequential\u001b[0m)         │ (\u001b[38;5;34m1\u001b[0m, \u001b[38;5;34m32\u001b[0m)                │     \u001b[38;5;34m2,062,880\u001b[0m │\n",
       "├─────────────────────────────────┼────────────────────────┼───────────────┤\n",
       "│ decoderLVG (\u001b[38;5;33mSequential\u001b[0m)         │ (\u001b[38;5;34m1\u001b[0m, \u001b[38;5;34m16083\u001b[0m)             │     \u001b[38;5;34m2,083,027\u001b[0m │\n",
       "├─────────────────────────────────┼────────────────────────┼───────────────┤\n",
       "│ clustering (\u001b[38;5;33mClusteringLayer\u001b[0m)    │ (\u001b[38;5;34m1\u001b[0m, \u001b[38;5;34m11\u001b[0m)                │           \u001b[38;5;34m352\u001b[0m │\n",
       "└─────────────────────────────────┴────────────────────────┴───────────────┘\n"
      ]
     },
     "metadata": {},
     "output_type": "display_data"
    },
    {
     "data": {
      "text/html": [
       "<pre style=\"white-space:pre;overflow-x:auto;line-height:normal;font-family:Menlo,'DejaVu Sans Mono',consolas,'Courier New',monospace\"><span style=\"font-weight: bold\"> Total params: </span><span style=\"color: #00af00; text-decoration-color: #00af00\">4,668,739</span> (17.81 MB)\n",
       "</pre>\n"
      ],
      "text/plain": [
       "\u001b[1m Total params: \u001b[0m\u001b[38;5;34m4,668,739\u001b[0m (17.81 MB)\n"
      ]
     },
     "metadata": {},
     "output_type": "display_data"
    },
    {
     "data": {
      "text/html": [
       "<pre style=\"white-space:pre;overflow-x:auto;line-height:normal;font-family:Menlo,'DejaVu Sans Mono',consolas,'Courier New',monospace\"><span style=\"font-weight: bold\"> Trainable params: </span><span style=\"color: #00af00; text-decoration-color: #00af00\">4,668,739</span> (17.81 MB)\n",
       "</pre>\n"
      ],
      "text/plain": [
       "\u001b[1m Trainable params: \u001b[0m\u001b[38;5;34m4,668,739\u001b[0m (17.81 MB)\n"
      ]
     },
     "metadata": {},
     "output_type": "display_data"
    },
    {
     "data": {
      "text/html": [
       "<pre style=\"white-space:pre;overflow-x:auto;line-height:normal;font-family:Menlo,'DejaVu Sans Mono',consolas,'Courier New',monospace\"><span style=\"font-weight: bold\"> Non-trainable params: </span><span style=\"color: #00af00; text-decoration-color: #00af00\">0</span> (0.00 B)\n",
       "</pre>\n"
      ],
      "text/plain": [
       "\u001b[1m Non-trainable params: \u001b[0m\u001b[38;5;34m0\u001b[0m (0.00 B)\n"
      ]
     },
     "metadata": {},
     "output_type": "display_data"
    },
    {
     "name": "stdout",
     "output_type": "stream",
     "text": [
      "\n",
      "--------------------Encoder Sub-Architecture--------------------\n",
      "\n"
     ]
    },
    {
     "data": {
      "text/html": [
       "<pre style=\"white-space:pre;overflow-x:auto;line-height:normal;font-family:Menlo,'DejaVu Sans Mono',consolas,'Courier New',monospace\"><span style=\"font-weight: bold\">Model: \"encoder\"</span>\n",
       "</pre>\n"
      ],
      "text/plain": [
       "\u001b[1mModel: \"encoder\"\u001b[0m\n"
      ]
     },
     "metadata": {},
     "output_type": "display_data"
    },
    {
     "data": {
      "text/html": [
       "<pre style=\"white-space:pre;overflow-x:auto;line-height:normal;font-family:Menlo,'DejaVu Sans Mono',consolas,'Courier New',monospace\">┏━━━━━━━━━━━━━━━━━━━━━━━━━━━━━━━━━┳━━━━━━━━━━━━━━━━━━━━━━━━┳━━━━━━━━━━━━━━━┓\n",
       "┃<span style=\"font-weight: bold\"> Layer (type)                    </span>┃<span style=\"font-weight: bold\"> Output Shape           </span>┃<span style=\"font-weight: bold\">       Param # </span>┃\n",
       "┡━━━━━━━━━━━━━━━━━━━━━━━━━━━━━━━━━╇━━━━━━━━━━━━━━━━━━━━━━━━╇━━━━━━━━━━━━━━━┩\n",
       "│ encoder_0 (<span style=\"color: #0087ff; text-decoration-color: #0087ff\">Dense</span>)               │ (<span style=\"color: #00af00; text-decoration-color: #00af00\">1</span>, <span style=\"color: #00af00; text-decoration-color: #00af00\">128</span>)               │       <span style=\"color: #00af00; text-decoration-color: #00af00\">256,128</span> │\n",
       "├─────────────────────────────────┼────────────────────────┼───────────────┤\n",
       "│ embedding (<span style=\"color: #0087ff; text-decoration-color: #0087ff\">Dense</span>)               │ (<span style=\"color: #00af00; text-decoration-color: #00af00\">1</span>, <span style=\"color: #00af00; text-decoration-color: #00af00\">32</span>)                │         <span style=\"color: #00af00; text-decoration-color: #00af00\">4,128</span> │\n",
       "└─────────────────────────────────┴────────────────────────┴───────────────┘\n",
       "</pre>\n"
      ],
      "text/plain": [
       "┏━━━━━━━━━━━━━━━━━━━━━━━━━━━━━━━━━┳━━━━━━━━━━━━━━━━━━━━━━━━┳━━━━━━━━━━━━━━━┓\n",
       "┃\u001b[1m \u001b[0m\u001b[1mLayer (type)                   \u001b[0m\u001b[1m \u001b[0m┃\u001b[1m \u001b[0m\u001b[1mOutput Shape          \u001b[0m\u001b[1m \u001b[0m┃\u001b[1m \u001b[0m\u001b[1m      Param #\u001b[0m\u001b[1m \u001b[0m┃\n",
       "┡━━━━━━━━━━━━━━━━━━━━━━━━━━━━━━━━━╇━━━━━━━━━━━━━━━━━━━━━━━━╇━━━━━━━━━━━━━━━┩\n",
       "│ encoder_0 (\u001b[38;5;33mDense\u001b[0m)               │ (\u001b[38;5;34m1\u001b[0m, \u001b[38;5;34m128\u001b[0m)               │       \u001b[38;5;34m256,128\u001b[0m │\n",
       "├─────────────────────────────────┼────────────────────────┼───────────────┤\n",
       "│ embedding (\u001b[38;5;33mDense\u001b[0m)               │ (\u001b[38;5;34m1\u001b[0m, \u001b[38;5;34m32\u001b[0m)                │         \u001b[38;5;34m4,128\u001b[0m │\n",
       "└─────────────────────────────────┴────────────────────────┴───────────────┘\n"
      ]
     },
     "metadata": {},
     "output_type": "display_data"
    },
    {
     "data": {
      "text/html": [
       "<pre style=\"white-space:pre;overflow-x:auto;line-height:normal;font-family:Menlo,'DejaVu Sans Mono',consolas,'Courier New',monospace\"><span style=\"font-weight: bold\"> Total params: </span><span style=\"color: #00af00; text-decoration-color: #00af00\">260,256</span> (1016.62 KB)\n",
       "</pre>\n"
      ],
      "text/plain": [
       "\u001b[1m Total params: \u001b[0m\u001b[38;5;34m260,256\u001b[0m (1016.62 KB)\n"
      ]
     },
     "metadata": {},
     "output_type": "display_data"
    },
    {
     "data": {
      "text/html": [
       "<pre style=\"white-space:pre;overflow-x:auto;line-height:normal;font-family:Menlo,'DejaVu Sans Mono',consolas,'Courier New',monospace\"><span style=\"font-weight: bold\"> Trainable params: </span><span style=\"color: #00af00; text-decoration-color: #00af00\">260,256</span> (1016.62 KB)\n",
       "</pre>\n"
      ],
      "text/plain": [
       "\u001b[1m Trainable params: \u001b[0m\u001b[38;5;34m260,256\u001b[0m (1016.62 KB)\n"
      ]
     },
     "metadata": {},
     "output_type": "display_data"
    },
    {
     "data": {
      "text/html": [
       "<pre style=\"white-space:pre;overflow-x:auto;line-height:normal;font-family:Menlo,'DejaVu Sans Mono',consolas,'Courier New',monospace\"><span style=\"font-weight: bold\"> Non-trainable params: </span><span style=\"color: #00af00; text-decoration-color: #00af00\">0</span> (0.00 B)\n",
       "</pre>\n"
      ],
      "text/plain": [
       "\u001b[1m Non-trainable params: \u001b[0m\u001b[38;5;34m0\u001b[0m (0.00 B)\n"
      ]
     },
     "metadata": {},
     "output_type": "display_data"
    },
    {
     "name": "stdout",
     "output_type": "stream",
     "text": [
      "\n",
      "------------------Base Decoder Sub-Architecture------------------\n",
      "\n"
     ]
    },
    {
     "data": {
      "text/html": [
       "<pre style=\"white-space:pre;overflow-x:auto;line-height:normal;font-family:Menlo,'DejaVu Sans Mono',consolas,'Courier New',monospace\"><span style=\"font-weight: bold\">Model: \"decoder\"</span>\n",
       "</pre>\n"
      ],
      "text/plain": [
       "\u001b[1mModel: \"decoder\"\u001b[0m\n"
      ]
     },
     "metadata": {},
     "output_type": "display_data"
    },
    {
     "data": {
      "text/html": [
       "<pre style=\"white-space:pre;overflow-x:auto;line-height:normal;font-family:Menlo,'DejaVu Sans Mono',consolas,'Courier New',monospace\">┏━━━━━━━━━━━━━━━━━━━━━━━━━━━━━━━━━┳━━━━━━━━━━━━━━━━━━━━━━━━┳━━━━━━━━━━━━━━━┓\n",
       "┃<span style=\"font-weight: bold\"> Layer (type)                    </span>┃<span style=\"font-weight: bold\"> Output Shape           </span>┃<span style=\"font-weight: bold\">       Param # </span>┃\n",
       "┡━━━━━━━━━━━━━━━━━━━━━━━━━━━━━━━━━╇━━━━━━━━━━━━━━━━━━━━━━━━╇━━━━━━━━━━━━━━━┩\n",
       "│ decoder0 (<span style=\"color: #0087ff; text-decoration-color: #0087ff\">Dense</span>)                │ (<span style=\"color: #00af00; text-decoration-color: #00af00\">1</span>, <span style=\"color: #00af00; text-decoration-color: #00af00\">128</span>)               │         <span style=\"color: #00af00; text-decoration-color: #00af00\">4,224</span> │\n",
       "├─────────────────────────────────┼────────────────────────┼───────────────┤\n",
       "│ output (<span style=\"color: #0087ff; text-decoration-color: #0087ff\">Dense</span>)                  │ (<span style=\"color: #00af00; text-decoration-color: #00af00\">1</span>, <span style=\"color: #00af00; text-decoration-color: #00af00\">2000</span>)              │       <span style=\"color: #00af00; text-decoration-color: #00af00\">258,000</span> │\n",
       "└─────────────────────────────────┴────────────────────────┴───────────────┘\n",
       "</pre>\n"
      ],
      "text/plain": [
       "┏━━━━━━━━━━━━━━━━━━━━━━━━━━━━━━━━━┳━━━━━━━━━━━━━━━━━━━━━━━━┳━━━━━━━━━━━━━━━┓\n",
       "┃\u001b[1m \u001b[0m\u001b[1mLayer (type)                   \u001b[0m\u001b[1m \u001b[0m┃\u001b[1m \u001b[0m\u001b[1mOutput Shape          \u001b[0m\u001b[1m \u001b[0m┃\u001b[1m \u001b[0m\u001b[1m      Param #\u001b[0m\u001b[1m \u001b[0m┃\n",
       "┡━━━━━━━━━━━━━━━━━━━━━━━━━━━━━━━━━╇━━━━━━━━━━━━━━━━━━━━━━━━╇━━━━━━━━━━━━━━━┩\n",
       "│ decoder0 (\u001b[38;5;33mDense\u001b[0m)                │ (\u001b[38;5;34m1\u001b[0m, \u001b[38;5;34m128\u001b[0m)               │         \u001b[38;5;34m4,224\u001b[0m │\n",
       "├─────────────────────────────────┼────────────────────────┼───────────────┤\n",
       "│ output (\u001b[38;5;33mDense\u001b[0m)                  │ (\u001b[38;5;34m1\u001b[0m, \u001b[38;5;34m2000\u001b[0m)              │       \u001b[38;5;34m258,000\u001b[0m │\n",
       "└─────────────────────────────────┴────────────────────────┴───────────────┘\n"
      ]
     },
     "metadata": {},
     "output_type": "display_data"
    },
    {
     "data": {
      "text/html": [
       "<pre style=\"white-space:pre;overflow-x:auto;line-height:normal;font-family:Menlo,'DejaVu Sans Mono',consolas,'Courier New',monospace\"><span style=\"font-weight: bold\"> Total params: </span><span style=\"color: #00af00; text-decoration-color: #00af00\">262,224</span> (1.00 MB)\n",
       "</pre>\n"
      ],
      "text/plain": [
       "\u001b[1m Total params: \u001b[0m\u001b[38;5;34m262,224\u001b[0m (1.00 MB)\n"
      ]
     },
     "metadata": {},
     "output_type": "display_data"
    },
    {
     "data": {
      "text/html": [
       "<pre style=\"white-space:pre;overflow-x:auto;line-height:normal;font-family:Menlo,'DejaVu Sans Mono',consolas,'Courier New',monospace\"><span style=\"font-weight: bold\"> Trainable params: </span><span style=\"color: #00af00; text-decoration-color: #00af00\">262,224</span> (1.00 MB)\n",
       "</pre>\n"
      ],
      "text/plain": [
       "\u001b[1m Trainable params: \u001b[0m\u001b[38;5;34m262,224\u001b[0m (1.00 MB)\n"
      ]
     },
     "metadata": {},
     "output_type": "display_data"
    },
    {
     "data": {
      "text/html": [
       "<pre style=\"white-space:pre;overflow-x:auto;line-height:normal;font-family:Menlo,'DejaVu Sans Mono',consolas,'Courier New',monospace\"><span style=\"font-weight: bold\"> Non-trainable params: </span><span style=\"color: #00af00; text-decoration-color: #00af00\">0</span> (0.00 B)\n",
       "</pre>\n"
      ],
      "text/plain": [
       "\u001b[1m Non-trainable params: \u001b[0m\u001b[38;5;34m0\u001b[0m (0.00 B)\n"
      ]
     },
     "metadata": {},
     "output_type": "display_data"
    },
    {
     "name": "stdout",
     "output_type": "stream",
     "text": [
      "\n",
      "------------------LVG Encoder Sub-Architecture------------------\n",
      "\n"
     ]
    },
    {
     "data": {
      "text/html": [
       "<pre style=\"white-space:pre;overflow-x:auto;line-height:normal;font-family:Menlo,'DejaVu Sans Mono',consolas,'Courier New',monospace\"><span style=\"font-weight: bold\">Model: \"encoderLVG\"</span>\n",
       "</pre>\n"
      ],
      "text/plain": [
       "\u001b[1mModel: \"encoderLVG\"\u001b[0m\n"
      ]
     },
     "metadata": {},
     "output_type": "display_data"
    },
    {
     "data": {
      "text/html": [
       "<pre style=\"white-space:pre;overflow-x:auto;line-height:normal;font-family:Menlo,'DejaVu Sans Mono',consolas,'Courier New',monospace\">┏━━━━━━━━━━━━━━━━━━━━━━━━━━━━━━━━━┳━━━━━━━━━━━━━━━━━━━━━━━━┳━━━━━━━━━━━━━━━┓\n",
       "┃<span style=\"font-weight: bold\"> Layer (type)                    </span>┃<span style=\"font-weight: bold\"> Output Shape           </span>┃<span style=\"font-weight: bold\">       Param # </span>┃\n",
       "┡━━━━━━━━━━━━━━━━━━━━━━━━━━━━━━━━━╇━━━━━━━━━━━━━━━━━━━━━━━━╇━━━━━━━━━━━━━━━┩\n",
       "│ encoder0 (<span style=\"color: #0087ff; text-decoration-color: #0087ff\">Dense</span>)                │ (<span style=\"color: #00af00; text-decoration-color: #00af00\">1</span>, <span style=\"color: #00af00; text-decoration-color: #00af00\">128</span>)               │     <span style=\"color: #00af00; text-decoration-color: #00af00\">2,058,752</span> │\n",
       "├─────────────────────────────────┼────────────────────────┼───────────────┤\n",
       "│ embedding (<span style=\"color: #0087ff; text-decoration-color: #0087ff\">Dense</span>)               │ (<span style=\"color: #00af00; text-decoration-color: #00af00\">1</span>, <span style=\"color: #00af00; text-decoration-color: #00af00\">32</span>)                │         <span style=\"color: #00af00; text-decoration-color: #00af00\">4,128</span> │\n",
       "└─────────────────────────────────┴────────────────────────┴───────────────┘\n",
       "</pre>\n"
      ],
      "text/plain": [
       "┏━━━━━━━━━━━━━━━━━━━━━━━━━━━━━━━━━┳━━━━━━━━━━━━━━━━━━━━━━━━┳━━━━━━━━━━━━━━━┓\n",
       "┃\u001b[1m \u001b[0m\u001b[1mLayer (type)                   \u001b[0m\u001b[1m \u001b[0m┃\u001b[1m \u001b[0m\u001b[1mOutput Shape          \u001b[0m\u001b[1m \u001b[0m┃\u001b[1m \u001b[0m\u001b[1m      Param #\u001b[0m\u001b[1m \u001b[0m┃\n",
       "┡━━━━━━━━━━━━━━━━━━━━━━━━━━━━━━━━━╇━━━━━━━━━━━━━━━━━━━━━━━━╇━━━━━━━━━━━━━━━┩\n",
       "│ encoder0 (\u001b[38;5;33mDense\u001b[0m)                │ (\u001b[38;5;34m1\u001b[0m, \u001b[38;5;34m128\u001b[0m)               │     \u001b[38;5;34m2,058,752\u001b[0m │\n",
       "├─────────────────────────────────┼────────────────────────┼───────────────┤\n",
       "│ embedding (\u001b[38;5;33mDense\u001b[0m)               │ (\u001b[38;5;34m1\u001b[0m, \u001b[38;5;34m32\u001b[0m)                │         \u001b[38;5;34m4,128\u001b[0m │\n",
       "└─────────────────────────────────┴────────────────────────┴───────────────┘\n"
      ]
     },
     "metadata": {},
     "output_type": "display_data"
    },
    {
     "data": {
      "text/html": [
       "<pre style=\"white-space:pre;overflow-x:auto;line-height:normal;font-family:Menlo,'DejaVu Sans Mono',consolas,'Courier New',monospace\"><span style=\"font-weight: bold\"> Total params: </span><span style=\"color: #00af00; text-decoration-color: #00af00\">2,062,880</span> (7.87 MB)\n",
       "</pre>\n"
      ],
      "text/plain": [
       "\u001b[1m Total params: \u001b[0m\u001b[38;5;34m2,062,880\u001b[0m (7.87 MB)\n"
      ]
     },
     "metadata": {},
     "output_type": "display_data"
    },
    {
     "data": {
      "text/html": [
       "<pre style=\"white-space:pre;overflow-x:auto;line-height:normal;font-family:Menlo,'DejaVu Sans Mono',consolas,'Courier New',monospace\"><span style=\"font-weight: bold\"> Trainable params: </span><span style=\"color: #00af00; text-decoration-color: #00af00\">2,062,880</span> (7.87 MB)\n",
       "</pre>\n"
      ],
      "text/plain": [
       "\u001b[1m Trainable params: \u001b[0m\u001b[38;5;34m2,062,880\u001b[0m (7.87 MB)\n"
      ]
     },
     "metadata": {},
     "output_type": "display_data"
    },
    {
     "data": {
      "text/html": [
       "<pre style=\"white-space:pre;overflow-x:auto;line-height:normal;font-family:Menlo,'DejaVu Sans Mono',consolas,'Courier New',monospace\"><span style=\"font-weight: bold\"> Non-trainable params: </span><span style=\"color: #00af00; text-decoration-color: #00af00\">0</span> (0.00 B)\n",
       "</pre>\n"
      ],
      "text/plain": [
       "\u001b[1m Non-trainable params: \u001b[0m\u001b[38;5;34m0\u001b[0m (0.00 B)\n"
      ]
     },
     "metadata": {},
     "output_type": "display_data"
    },
    {
     "name": "stdout",
     "output_type": "stream",
     "text": [
      "\n",
      "----------------LVG Base Decoder Sub-Architecture----------------\n",
      "\n"
     ]
    },
    {
     "data": {
      "text/html": [
       "<pre style=\"white-space:pre;overflow-x:auto;line-height:normal;font-family:Menlo,'DejaVu Sans Mono',consolas,'Courier New',monospace\"><span style=\"font-weight: bold\">Model: \"decoderLVG\"</span>\n",
       "</pre>\n"
      ],
      "text/plain": [
       "\u001b[1mModel: \"decoderLVG\"\u001b[0m\n"
      ]
     },
     "metadata": {},
     "output_type": "display_data"
    },
    {
     "data": {
      "text/html": [
       "<pre style=\"white-space:pre;overflow-x:auto;line-height:normal;font-family:Menlo,'DejaVu Sans Mono',consolas,'Courier New',monospace\">┏━━━━━━━━━━━━━━━━━━━━━━━━━━━━━━━━━┳━━━━━━━━━━━━━━━━━━━━━━━━┳━━━━━━━━━━━━━━━┓\n",
       "┃<span style=\"font-weight: bold\"> Layer (type)                    </span>┃<span style=\"font-weight: bold\"> Output Shape           </span>┃<span style=\"font-weight: bold\">       Param # </span>┃\n",
       "┡━━━━━━━━━━━━━━━━━━━━━━━━━━━━━━━━━╇━━━━━━━━━━━━━━━━━━━━━━━━╇━━━━━━━━━━━━━━━┩\n",
       "│ decoderLVG0 (<span style=\"color: #0087ff; text-decoration-color: #0087ff\">Dense</span>)             │ (<span style=\"color: #00af00; text-decoration-color: #00af00\">1</span>, <span style=\"color: #00af00; text-decoration-color: #00af00\">128</span>)               │         <span style=\"color: #00af00; text-decoration-color: #00af00\">8,320</span> │\n",
       "├─────────────────────────────────┼────────────────────────┼───────────────┤\n",
       "│ outputLVG (<span style=\"color: #0087ff; text-decoration-color: #0087ff\">Dense</span>)               │ (<span style=\"color: #00af00; text-decoration-color: #00af00\">1</span>, <span style=\"color: #00af00; text-decoration-color: #00af00\">16083</span>)             │     <span style=\"color: #00af00; text-decoration-color: #00af00\">2,074,707</span> │\n",
       "└─────────────────────────────────┴────────────────────────┴───────────────┘\n",
       "</pre>\n"
      ],
      "text/plain": [
       "┏━━━━━━━━━━━━━━━━━━━━━━━━━━━━━━━━━┳━━━━━━━━━━━━━━━━━━━━━━━━┳━━━━━━━━━━━━━━━┓\n",
       "┃\u001b[1m \u001b[0m\u001b[1mLayer (type)                   \u001b[0m\u001b[1m \u001b[0m┃\u001b[1m \u001b[0m\u001b[1mOutput Shape          \u001b[0m\u001b[1m \u001b[0m┃\u001b[1m \u001b[0m\u001b[1m      Param #\u001b[0m\u001b[1m \u001b[0m┃\n",
       "┡━━━━━━━━━━━━━━━━━━━━━━━━━━━━━━━━━╇━━━━━━━━━━━━━━━━━━━━━━━━╇━━━━━━━━━━━━━━━┩\n",
       "│ decoderLVG0 (\u001b[38;5;33mDense\u001b[0m)             │ (\u001b[38;5;34m1\u001b[0m, \u001b[38;5;34m128\u001b[0m)               │         \u001b[38;5;34m8,320\u001b[0m │\n",
       "├─────────────────────────────────┼────────────────────────┼───────────────┤\n",
       "│ outputLVG (\u001b[38;5;33mDense\u001b[0m)               │ (\u001b[38;5;34m1\u001b[0m, \u001b[38;5;34m16083\u001b[0m)             │     \u001b[38;5;34m2,074,707\u001b[0m │\n",
       "└─────────────────────────────────┴────────────────────────┴───────────────┘\n"
      ]
     },
     "metadata": {},
     "output_type": "display_data"
    },
    {
     "data": {
      "text/html": [
       "<pre style=\"white-space:pre;overflow-x:auto;line-height:normal;font-family:Menlo,'DejaVu Sans Mono',consolas,'Courier New',monospace\"><span style=\"font-weight: bold\"> Total params: </span><span style=\"color: #00af00; text-decoration-color: #00af00\">2,083,027</span> (7.95 MB)\n",
       "</pre>\n"
      ],
      "text/plain": [
       "\u001b[1m Total params: \u001b[0m\u001b[38;5;34m2,083,027\u001b[0m (7.95 MB)\n"
      ]
     },
     "metadata": {},
     "output_type": "display_data"
    },
    {
     "data": {
      "text/html": [
       "<pre style=\"white-space:pre;overflow-x:auto;line-height:normal;font-family:Menlo,'DejaVu Sans Mono',consolas,'Courier New',monospace\"><span style=\"font-weight: bold\"> Trainable params: </span><span style=\"color: #00af00; text-decoration-color: #00af00\">2,083,027</span> (7.95 MB)\n",
       "</pre>\n"
      ],
      "text/plain": [
       "\u001b[1m Trainable params: \u001b[0m\u001b[38;5;34m2,083,027\u001b[0m (7.95 MB)\n"
      ]
     },
     "metadata": {},
     "output_type": "display_data"
    },
    {
     "data": {
      "text/html": [
       "<pre style=\"white-space:pre;overflow-x:auto;line-height:normal;font-family:Menlo,'DejaVu Sans Mono',consolas,'Courier New',monospace\"><span style=\"font-weight: bold\"> Non-trainable params: </span><span style=\"color: #00af00; text-decoration-color: #00af00\">0</span> (0.00 B)\n",
       "</pre>\n"
      ],
      "text/plain": [
       "\u001b[1m Non-trainable params: \u001b[0m\u001b[38;5;34m0\u001b[0m (0.00 B)\n"
      ]
     },
     "metadata": {},
     "output_type": "display_data"
    }
   ],
   "source": [
    "CarDEC.build_model(n_clusters=11, pretrain_epochs=10)"
   ]
  },
  {
   "cell_type": "markdown",
   "metadata": {
    "id": "xYspwXkYmlUB"
   },
   "source": [
    "Now, call the make_inference method to finetune CarDEC. Doing so will finetune the model, and then produce denoised features on the zscore scale. If weights for the full model are already saved in the weights directory, these weights will be loaded, rather than training the full model."
   ]
  },
  {
   "cell_type": "code",
   "execution_count": 7,
   "metadata": {
    "id": "PlKxD3AFmlUB",
    "outputId": "935ccf2a-518f-4424-82ea-8502fb12367d"
   },
   "outputs": [
    {
     "name": "stdout",
     "output_type": "stream",
     "text": [
      "CarDEC Model Weights not detected. Training full model.\n",
      "\n"
     ]
    },
    {
     "ename": "ValueError",
     "evalue": "Exception encountered when calling Sequential.call().\n\n\u001b[1mInputs to a layer should be tensors. Got 'None' (of type <class 'NoneType'>) as input for layer 'encoder0'.\u001b[0m\n\nArguments received by Sequential.call():\n  • inputs=None\n  • training=None\n  • mask=None",
     "output_type": "error",
     "traceback": [
      "\u001b[0;31m---------------------------------------------------------------------------\u001b[0m",
      "\u001b[0;31mValueError\u001b[0m                                Traceback (most recent call last)",
      "Cell \u001b[0;32mIn[7], line 1\u001b[0m\n\u001b[0;32m----> 1\u001b[0m \u001b[43mCarDEC\u001b[49m\u001b[38;5;241;43m.\u001b[39;49m\u001b[43mmake_inference\u001b[49m\u001b[43m(\u001b[49m\u001b[43m)\u001b[49m\n",
      "File \u001b[0;32m/opt/anaconda3/envs/cardec/lib/python3.10/site-packages/CarDEC/CarDEC_API.py:138\u001b[0m, in \u001b[0;36mCarDEC_API.make_inference\u001b[0;34m(self, batch_size, val_split, lr, decay_factor, iteration_patience_LR, iteration_patience_ES, maxiter, epochs_fit, optimizer, printperiter, denoise_all, denoise_list)\u001b[0m\n\u001b[1;32m    136\u001b[0m \u001b[38;5;28;01melif\u001b[39;00m \u001b[38;5;129;01mnot\u001b[39;00m \u001b[38;5;28mself\u001b[39m\u001b[38;5;241m.\u001b[39mweights_exist:\n\u001b[1;32m    137\u001b[0m     \u001b[38;5;28mprint\u001b[39m(\u001b[38;5;124m\"\u001b[39m\u001b[38;5;124mCarDEC Model Weights not detected. Training full model.\u001b[39m\u001b[38;5;130;01m\\n\u001b[39;00m\u001b[38;5;124m\"\u001b[39m)\n\u001b[0;32m--> 138\u001b[0m     \u001b[38;5;28mself\u001b[39m\u001b[38;5;241m.\u001b[39mdataset \u001b[38;5;241m=\u001b[39m \u001b[38;5;28;43mself\u001b[39;49m\u001b[38;5;241;43m.\u001b[39;49m\u001b[43mmodel\u001b[49m\u001b[38;5;241;43m.\u001b[39;49m\u001b[43mtrain\u001b[49m\u001b[43m(\u001b[49m\u001b[38;5;28;43mself\u001b[39;49m\u001b[38;5;241;43m.\u001b[39;49m\u001b[43mdataset\u001b[49m\u001b[43m,\u001b[49m\u001b[43m \u001b[49m\u001b[43mbatch_size\u001b[49m\u001b[43m,\u001b[49m\u001b[43m \u001b[49m\u001b[43mval_split\u001b[49m\u001b[43m,\u001b[49m\u001b[43m \u001b[49m\u001b[43mlr\u001b[49m\u001b[43m,\u001b[49m\u001b[43m \u001b[49m\u001b[43mdecay_factor\u001b[49m\u001b[43m,\u001b[49m\n\u001b[1;32m    139\u001b[0m \u001b[43m                   \u001b[49m\u001b[43miteration_patience_LR\u001b[49m\u001b[43m,\u001b[49m\u001b[43m \u001b[49m\u001b[43miteration_patience_ES\u001b[49m\u001b[43m,\u001b[49m\u001b[43m \u001b[49m\u001b[43mmaxiter\u001b[49m\u001b[43m,\u001b[49m\n\u001b[1;32m    140\u001b[0m \u001b[43m                   \u001b[49m\u001b[43mepochs_fit\u001b[49m\u001b[43m,\u001b[49m\u001b[43m \u001b[49m\u001b[43moptimizer\u001b[49m\u001b[43m,\u001b[49m\u001b[43m \u001b[49m\u001b[43mprintperiter\u001b[49m\u001b[43m,\u001b[49m\u001b[43m \u001b[49m\u001b[43mdenoise_all\u001b[49m\u001b[43m)\u001b[49m\n\u001b[1;32m    142\u001b[0m \u001b[38;5;28;01melse\u001b[39;00m:\n\u001b[1;32m    143\u001b[0m     \u001b[38;5;28mprint\u001b[39m(\u001b[38;5;124m\"\u001b[39m\u001b[38;5;124mTraining full model.\u001b[39m\u001b[38;5;130;01m\\n\u001b[39;00m\u001b[38;5;124m\"\u001b[39m)\n",
      "File \u001b[0;32m/opt/anaconda3/envs/cardec/lib/python3.10/site-packages/CarDEC/CarDEC_MainModel.py:532\u001b[0m, in \u001b[0;36mCarDEC_Model.train\u001b[0;34m(self, adata, batch_size, val_split, lr, decay_factor, iteration_patience_LR, iteration_patience_ES, maxiter, epochs_fit, optimizer, printperiter, denoise)\u001b[0m\n\u001b[1;32m    528\u001b[0m delta_stop \u001b[38;5;241m=\u001b[39m \u001b[38;5;28;01mFalse\u001b[39;00m\n\u001b[1;32m    530\u001b[0m dataset \u001b[38;5;241m=\u001b[39m \u001b[38;5;28mself\u001b[39m\u001b[38;5;241m.\u001b[39mmake_generators(adata, val_split \u001b[38;5;241m=\u001b[39m \u001b[38;5;241m0.1\u001b[39m, batch_size \u001b[38;5;241m=\u001b[39m batch_size)\n\u001b[0;32m--> 532\u001b[0m \u001b[38;5;28;43mself\u001b[39;49m\u001b[38;5;241;43m.\u001b[39;49m\u001b[43mmake_outputs\u001b[49m\u001b[43m(\u001b[49m\u001b[43madata\u001b[49m\u001b[43m,\u001b[49m\u001b[43m \u001b[49m\u001b[43mbatch_size\u001b[49m\u001b[43m,\u001b[49m\u001b[43m \u001b[49m\u001b[43mdenoise\u001b[49m\u001b[43m \u001b[49m\u001b[38;5;241;43m=\u001b[39;49m\u001b[43m \u001b[49m\u001b[43mprintperiter\u001b[49m\u001b[43m \u001b[49m\u001b[38;5;129;43;01mis\u001b[39;49;00m\u001b[43m \u001b[49m\u001b[38;5;129;43;01mnot\u001b[39;49;00m\u001b[43m \u001b[49m\u001b[38;5;28;43;01mNone\u001b[39;49;00m\u001b[43m)\u001b[49m\n\u001b[1;32m    534\u001b[0m \u001b[38;5;28;01mfor\u001b[39;00m ite \u001b[38;5;129;01min\u001b[39;00m \u001b[38;5;28mrange\u001b[39m(\u001b[38;5;28mint\u001b[39m(maxiter)):\n\u001b[1;32m    536\u001b[0m     p \u001b[38;5;241m=\u001b[39m \u001b[38;5;28mself\u001b[39m\u001b[38;5;241m.\u001b[39mtarget_distribution(adata\u001b[38;5;241m.\u001b[39mobsm[\u001b[38;5;124m'\u001b[39m\u001b[38;5;124mcluster memberships\u001b[39m\u001b[38;5;124m'\u001b[39m])\n",
      "File \u001b[0;32m/opt/anaconda3/envs/cardec/lib/python3.10/site-packages/CarDEC/CarDEC_MainModel.py:443\u001b[0m, in \u001b[0;36mCarDEC_Model.make_outputs\u001b[0;34m(self, adata, batch_size, denoise)\u001b[0m\n\u001b[1;32m    441\u001b[0m     \u001b[38;5;28mprint\u001b[39m(\u001b[38;5;124m\"\u001b[39m\u001b[38;5;124m警告：当前批次为空，请检查数据生成器！\u001b[39m\u001b[38;5;124m\"\u001b[39m)\n\u001b[1;32m    442\u001b[0m     \u001b[38;5;28;01mcontinue\u001b[39;00m\n\u001b[0;32m--> 443\u001b[0m q_batch \u001b[38;5;241m=\u001b[39m \u001b[38;5;28;43mself\u001b[39;49m\u001b[43m(\u001b[49m\u001b[43mx\u001b[49m\u001b[43m,\u001b[49m\u001b[43m \u001b[49m\u001b[43mlvg\u001b[49m\u001b[38;5;241;43m=\u001b[39;49m\u001b[38;5;28;43;01mNone\u001b[39;49;00m\u001b[43m,\u001b[49m\u001b[43m \u001b[49m\u001b[43mtraining\u001b[49m\u001b[38;5;241;43m=\u001b[39;49m\u001b[38;5;28;43;01mFalse\u001b[39;49;00m\u001b[43m)\u001b[49m\n\u001b[1;32m    444\u001b[0m end \u001b[38;5;241m=\u001b[39m start \u001b[38;5;241m+\u001b[39m q_batch\u001b[38;5;241m.\u001b[39mshape[\u001b[38;5;241m0\u001b[39m]\n\u001b[1;32m    445\u001b[0m adata\u001b[38;5;241m.\u001b[39mobsm[\u001b[38;5;124m\"\u001b[39m\u001b[38;5;124mcluster memberships\u001b[39m\u001b[38;5;124m\"\u001b[39m][start:end] \u001b[38;5;241m=\u001b[39m q_batch\u001b[38;5;241m.\u001b[39mnumpy()\n",
      "File \u001b[0;32m/opt/anaconda3/envs/cardec/lib/python3.10/site-packages/keras/src/utils/traceback_utils.py:122\u001b[0m, in \u001b[0;36mfilter_traceback.<locals>.error_handler\u001b[0;34m(*args, **kwargs)\u001b[0m\n\u001b[1;32m    119\u001b[0m     filtered_tb \u001b[38;5;241m=\u001b[39m _process_traceback_frames(e\u001b[38;5;241m.\u001b[39m__traceback__)\n\u001b[1;32m    120\u001b[0m     \u001b[38;5;66;03m# To get the full stack trace, call:\u001b[39;00m\n\u001b[1;32m    121\u001b[0m     \u001b[38;5;66;03m# `keras.config.disable_traceback_filtering()`\u001b[39;00m\n\u001b[0;32m--> 122\u001b[0m     \u001b[38;5;28;01mraise\u001b[39;00m e\u001b[38;5;241m.\u001b[39mwith_traceback(filtered_tb) \u001b[38;5;28;01mfrom\u001b[39;00m\u001b[38;5;250m \u001b[39m\u001b[38;5;28;01mNone\u001b[39;00m\n\u001b[1;32m    123\u001b[0m \u001b[38;5;28;01mfinally\u001b[39;00m:\n\u001b[1;32m    124\u001b[0m     \u001b[38;5;28;01mdel\u001b[39;00m filtered_tb\n",
      "File \u001b[0;32m/opt/anaconda3/envs/cardec/lib/python3.10/site-packages/CarDEC/CarDEC_MainModel.py:246\u001b[0m, in \u001b[0;36mCarDEC_Model.call\u001b[0;34m(self, hvg, lvg, denoise)\u001b[0m\n\u001b[1;32m    243\u001b[0m denoised_output \u001b[38;5;241m=\u001b[39m {\u001b[38;5;124m'\u001b[39m\u001b[38;5;124mHVG_denoised\u001b[39m\u001b[38;5;124m'\u001b[39m: HVG_denoised_output}\n\u001b[1;32m    245\u001b[0m \u001b[38;5;28;01mif\u001b[39;00m \u001b[38;5;28mself\u001b[39m\u001b[38;5;241m.\u001b[39mLVG_dims \u001b[38;5;129;01mis\u001b[39;00m \u001b[38;5;129;01mnot\u001b[39;00m \u001b[38;5;28;01mNone\u001b[39;00m:\n\u001b[0;32m--> 246\u001b[0m     lvg \u001b[38;5;241m=\u001b[39m \u001b[38;5;28;43mself\u001b[39;49m\u001b[38;5;241;43m.\u001b[39;49m\u001b[43mencoderLVG\u001b[49m\u001b[43m(\u001b[49m\u001b[43mlvg\u001b[49m\u001b[43m)\u001b[49m\n\u001b[1;32m    247\u001b[0m     z \u001b[38;5;241m=\u001b[39m concatenate([hvg, lvg], axis\u001b[38;5;241m=\u001b[39m\u001b[38;5;241m1\u001b[39m)\n\u001b[1;32m    249\u001b[0m     LVG_denoised_output \u001b[38;5;241m=\u001b[39m \u001b[38;5;28mself\u001b[39m\u001b[38;5;241m.\u001b[39mdecoderLVG(z)\n",
      "\u001b[0;31mValueError\u001b[0m: Exception encountered when calling Sequential.call().\n\n\u001b[1mInputs to a layer should be tensors. Got 'None' (of type <class 'NoneType'>) as input for layer 'encoder0'.\u001b[0m\n\nArguments received by Sequential.call():\n  • inputs=None\n  • training=None\n  • mask=None"
     ]
    }
   ],
   "source": [
    "CarDEC.make_inference()"
   ]
  },
  {
   "cell_type": "markdown",
   "metadata": {
    "id": "IlLVdlhAmlUD"
   },
   "source": [
    "To get denoised features on the count scale, call the model_counts method."
   ]
  },
  {
   "cell_type": "code",
   "execution_count": null,
   "metadata": {
    "id": "tO7AUQClmlUD",
    "outputId": "66ea5dd3-2570-4ea2-f1ea-40cf50a81100"
   },
   "outputs": [],
   "source": [
    "CarDEC.model_counts()"
   ]
  },
  {
   "cell_type": "markdown",
   "metadata": {
    "id": "EwvcE7m0mlUF"
   },
   "source": [
    "As mentioned before, the output is accessed via CarDEC.dataset. Let's look at the output structure."
   ]
  },
  {
   "cell_type": "code",
   "execution_count": null,
   "metadata": {
    "id": "9Umf6ohsmlUG",
    "outputId": "34ce3aa6-2b27-4ccc-f9ec-2ae33d8e1cae"
   },
   "outputs": [],
   "source": [
    "print(\"The overall structure of the output is: \\n\")\n",
    "print(CarDEC.dataset)\n",
    "\n",
    "CarDEC.dataset.X #The main layer of the output object contains the original counts\n",
    "CarDEC.dataset.layers['denoised'] #These are the denoised features, on the zscore scale\n",
    "CarDEC.dataset.layers['denoised counts'] #These are the denoised features, on the count scale\n",
    "CarDEC.dataset.var['Variance Type'] #This is a vector that informs which genes are high variance and which are low variance\n",
    "CarDEC.dataset.obsm['embedding'] #This is the CarDEC low-dimensional embedding after finetuning.\n",
    "CarDEC.dataset.obsm['precluster denoised'] #This is the matrix of feature zscores denoised with the pretrained autoencoder.\n",
    "CarDEC.dataset.obsm['precluster embedding'] #This is the latent embedding from the pretrained autoencoder.\n",
    "\n",
    "\"\"\"Example, this is how to get the matrix of denoised counts for only high variance genes\"\"\"\n",
    "HVG_denoised = deepcopy(CarDEC.dataset.layers['denoised counts'][:, CarDEC.dataset.var['Variance Type'] == 'HVG'])\n",
    "\n",
    "\"\"\"Example, this is how to get the matrix of denoised counts for only low variance genes\"\"\"\n",
    "LVG_denoised = deepcopy(CarDEC.dataset.layers['denoised counts'][:, CarDEC.dataset.var['Variance Type'] == 'LVG'])"
   ]
  },
  {
   "cell_type": "markdown",
   "metadata": {
    "id": "vI3e95rzmlUH"
   },
   "source": [
    "## Working with the embedding and cluster assignments\n",
    "\n",
    "Here, I demonstrate how to access the latent embedding of CarDEC and how to use it for UMAP visualization. I also demonstrate how to get the CarDEC cluster assignments."
   ]
  },
  {
   "cell_type": "code",
   "execution_count": null,
   "metadata": {
    "id": "XmTpr7-3mlUI",
    "outputId": "98754edc-6a74-4bb6-9deb-311b5c797627"
   },
   "outputs": [],
   "source": [
    "\"\"\"Get the predicted cluster assignments and compute cluster accuracy metrics\"\"\"\n",
    "\n",
    "embedded = deepcopy(CarDEC.dataset.obsm['embedding']) #The latent embedding numpy array\n",
    "\n",
    "q = deepcopy(CarDEC.dataset.obsm['cluster memberships']) #The cluster membership numpy array\n",
    "labels = np.argmax(q, axis=1)\n",
    "labels = [str(x) for x in labels]\n",
    "\n",
    "true_celltype = list(CarDEC.dataset.obs['cluster']) #Note: all obs properties from the inputted adata are inherited by the output\n",
    "\n",
    "print(\"CarDEC Clustering Results\")\n",
    "ARI, NMI, Purity = [metric(CarDEC.dataset.obs['cluster'], labels) for metric in metrics_]\n",
    "\n",
    "print (\"ARI = {0:.4f}\".format(ARI)) \n",
    "print (\"NMI = {0:.4f}\".format(NMI)) \n",
    "print (\"Purity = {0:.4f}\".format(Purity))\n",
    "\n",
    "\"\"\"Create a scanpy AnnData object with the latent embedding as the matrix, to perform scanpy UMAP embedding\"\"\"\n",
    "formatting = AnnData(embedded)\n",
    "formatting.obs[\"cell_type\"] = list(CarDEC.dataset.obs['cluster'])\n",
    "formatting.obs[\"predicted\"] = list(labels)\n",
    "formatting.obs[\"sample\"] = list(CarDEC.dataset.obs['sample'])\n",
    "formatting.obs[\"macaque_id\"] = list(CarDEC.dataset.obs['macaque_id'])\n",
    "\n",
    "sc.pp.neighbors(formatting, n_neighbors = 15, use_rep = 'X')\n",
    "sc.tl.umap(formatting)\n",
    "sc.pl.umap(formatting, color = [\"predicted\", \"cell_type\", \"sample\", \"macaque_id\"], return_fig = True)\n",
    "print(\"Done\")"
   ]
  },
  {
   "cell_type": "code",
   "execution_count": null,
   "metadata": {
    "id": "IK1go6R7mlUK",
    "outputId": "e3329d66-2d39-4e8d-80eb-5135b5b58ede"
   },
   "outputs": [],
   "source": [
    "\"\"\"Get the predicted labels and compute adjusted rand score for the precluster embedding\"\"\"\n",
    "\n",
    "preclust_emb = deepcopy(CarDEC.dataset.obsm['precluster embedding'])\n",
    "\n",
    "formatting = AnnData(preclust_emb)\n",
    "sc.pp.neighbors(formatting, n_neighbors = 15, use_rep = 'X')\n",
    "res = find_resolution(formatting, 11)\n",
    "sc.tl.louvain(formatting, resolution = res)\n",
    "\n",
    "print(str(len(np.unique(labels))) + \" Clusters Detected\")\n",
    "\n",
    "labels = formatting.obs['louvain']\n",
    "type_strings = list(CarDEC.dataset.obs['cluster'])\n",
    "\n",
    "ARI, NMI, Purity = [metric(CarDEC.dataset.obs['cluster'], labels) for metric in metrics_]\n",
    "\n",
    "print(\"Pretrained Autoencoder Clustering Results\")\n",
    "print (\"ARI = {0:.4f}\".format(ARI))\n",
    "print (\"NMI = {0:.4f}\".format(NMI))\n",
    "print (\"Purity = {0:.4f}\".format(Purity))\n",
    "\n",
    "formatting.obs[\"cell_type\"] = list(CarDEC.dataset.obs['cluster'])\n",
    "formatting.obs[\"predicted\"] = list(labels)\n",
    "formatting.obs[\"sample\"] = list(CarDEC.dataset.obs['sample'])\n",
    "formatting.obs[\"region\"] = list(CarDEC.dataset.obs['region'])\n",
    "formatting.obs[\"macaque_id\"] = list(CarDEC.dataset.obs['macaque_id'])\n",
    "sc.tl.umap(formatting)\n",
    "sc.pl.umap(formatting, color = [\"predicted\", \"cell_type\", \"sample\", \"macaque_id\"], return_fig=True)\n",
    "print(\"Done\")"
   ]
  },
  {
   "cell_type": "markdown",
   "metadata": {
    "id": "IVu9ALdImlUM"
   },
   "source": [
    "## Working with the denoised counts"
   ]
  },
  {
   "cell_type": "markdown",
   "metadata": {
    "id": "yRO6u6WImlUN"
   },
   "source": [
    "Here I work with the denoised counts. I demonstrate the use of the denoised counts for UMAP embedding and louvain clustering with scanpy."
   ]
  },
  {
   "cell_type": "code",
   "execution_count": null,
   "metadata": {
    "id": "SWPVmFA7mlUN",
    "outputId": "51a54c37-6c54-49e7-ea50-1018c2cb6a29",
    "scrolled": true
   },
   "outputs": [],
   "source": [
    "\"\"\"Assessing denoised Counts\"\"\"\n",
    "\n",
    "temporary = AnnData(deepcopy(CarDEC.dataset.layers['denoised counts']))\n",
    "temporary.obs = CarDEC.dataset.obs\n",
    "temporary.obs['cell_type'] = temporary.obs['cluster']\n",
    "\n",
    "sc.pp.normalize_total(temporary)\n",
    "sc.pp.log1p(temporary)\n",
    "sc.pp.scale(temporary)\n",
    "\n",
    "sc.tl.pca(temporary, svd_solver='arpack')\n",
    "sc.pp.neighbors(temporary, n_neighbors = 15)\n",
    "\n",
    "res = find_resolution(temporary, 11)\n",
    "sc.tl.louvain(temporary, resolution = res)\n",
    "temporary.obs['cluster assignment'] = temporary.obs['louvain']\n",
    "\n",
    "sc.tl.umap(temporary)\n",
    "sc.pl.umap(temporary, color = [\"cell_type\", \"cluster assignment\", \"sample\", \"macaque_id\"], return_fig = True)\n",
    "\n",
    "ARI, NMI, Purity = [metric(temporary.obs['cell_type'], temporary.obs['cluster assignment']) for metric in metrics_]\n",
    "\n",
    "print(\"CarDEC Denoising Results using all denoised counts\")\n",
    "print (\"ARI = {0:.4f}\".format(ARI)) \n",
    "print (\"NMI = {0:.4f}\".format(NMI)) \n",
    "print (\"Purity = {0:.4f}\".format(Purity))"
   ]
  },
  {
   "cell_type": "markdown",
   "metadata": {
    "id": "jxyDR9PMmlUQ"
   },
   "source": [
    "## Working with only the high variance denoised counts"
   ]
  },
  {
   "cell_type": "code",
   "execution_count": null,
   "metadata": {
    "id": "0l-ysdibmlUQ",
    "outputId": "29da88e3-e95e-4f4c-bf60-7c4f45ad39af"
   },
   "outputs": [],
   "source": [
    "\"\"\"Assessing HVG denoised Counts\"\"\"\n",
    "\n",
    "temporary = AnnData(deepcopy(CarDEC.dataset.layers['denoised counts'][:, CarDEC.dataset.var['Variance Type'] == 'HVG']))\n",
    "temporary.obs = CarDEC.dataset.obs\n",
    "temporary.obs['cell_type'] = temporary.obs['cluster']\n",
    "\n",
    "sc.pp.normalize_total(temporary)\n",
    "sc.pp.log1p(temporary)\n",
    "sc.pp.scale(temporary)\n",
    "\n",
    "sc.tl.pca(temporary, svd_solver='arpack')\n",
    "sc.pp.neighbors(temporary, n_neighbors = 15)\n",
    "\n",
    "res = find_resolution(temporary, 11)\n",
    "sc.tl.louvain(temporary, resolution = res)\n",
    "temporary.obs['cluster assignment'] = temporary.obs['louvain']\n",
    "\n",
    "sc.tl.umap(temporary)\n",
    "sc.pl.umap(temporary, color = [\"cell_type\", \"cluster assignment\", \"sample\", \"macaque_id\"], return_fig = True)\n",
    "\n",
    "ARI, NMI, Purity = [metric(temporary.obs['cell_type'], temporary.obs['cluster assignment']) for metric in metrics_]\n",
    "\n",
    "print(\"Clustering high variance denoised counts\")\n",
    "print (\"ARI = {0:.4f}\".format(ARI)) \n",
    "print (\"NMI = {0:.4f}\".format(NMI)) \n",
    "print (\"Purity = {0:.4f}\".format(Purity))"
   ]
  },
  {
   "cell_type": "markdown",
   "metadata": {
    "id": "c3qF2CcgmlUT"
   },
   "source": [
    "## Working with only the low variance denoised counts"
   ]
  },
  {
   "cell_type": "code",
   "execution_count": null,
   "metadata": {
    "id": "kyRPYOBEmlUT",
    "outputId": "d0a60f95-eb90-45e1-f418-38c3bef6a367"
   },
   "outputs": [],
   "source": [
    "\"\"\"Assessing LVG denoised Counts\"\"\"\n",
    "\n",
    "temporary = AnnData(deepcopy(CarDEC.dataset.layers['denoised counts'][:, CarDEC.dataset.var['Variance Type'] == 'LVG']))\n",
    "temporary.obs = CarDEC.dataset.obs\n",
    "temporary.obs['cell_type'] = temporary.obs['cluster']\n",
    "\n",
    "sc.pp.normalize_total(temporary)\n",
    "sc.pp.log1p(temporary)\n",
    "sc.pp.scale(temporary)\n",
    "\n",
    "sc.tl.pca(temporary, svd_solver='arpack')\n",
    "sc.pp.neighbors(temporary, n_neighbors = 15)\n",
    "\n",
    "res = find_resolution(temporary, 11)\n",
    "sc.tl.louvain(temporary, resolution = res)\n",
    "temporary.obs['cluster assignment'] = temporary.obs['louvain']\n",
    "\n",
    "sc.tl.umap(temporary)\n",
    "sc.pl.umap(temporary, color = [\"cell_type\", \"cluster assignment\", \"sample\", \"macaque_id\"], return_fig = True)\n",
    "\n",
    "ARI, NMI, Purity = [metric(temporary.obs['cell_type'], temporary.obs['cluster assignment']) for metric in metrics_]\n",
    "\n",
    "print(\"Clustering low variance denoised counts\")\n",
    "print (\"ARI = {0:.4f}\".format(ARI)) \n",
    "print (\"NMI = {0:.4f}\".format(NMI)) \n",
    "print (\"Purity = {0:.4f}\".format(Purity))"
   ]
  },
  {
   "cell_type": "markdown",
   "metadata": {
    "id": "JS67IQMFmlUV"
   },
   "source": [
    "## Working with the denoised counts on the zscore scale"
   ]
  },
  {
   "cell_type": "code",
   "execution_count": null,
   "metadata": {
    "id": "GdvpnXvpmlUW",
    "outputId": "ae347641-1303-47d4-ec3d-e08e69cecaf5"
   },
   "outputs": [],
   "source": [
    "\"\"\"Assessing denoised zscore features\"\"\"\n",
    "\n",
    "temporary = AnnData(deepcopy(CarDEC.dataset.layers['denoised']))\n",
    "temporary.obs = CarDEC.dataset.obs\n",
    "temporary.obs['cell_type'] = temporary.obs['cluster']\n",
    "\n",
    "sc.tl.pca(temporary, svd_solver='arpack')\n",
    "sc.pp.neighbors(temporary, n_neighbors = 15)\n",
    "\n",
    "res = find_resolution(temporary, 11)\n",
    "sc.tl.louvain(temporary, resolution = res)\n",
    "temporary.obs['cluster assignment'] = temporary.obs['louvain']\n",
    "\n",
    "sc.tl.umap(temporary)\n",
    "sc.pl.umap(temporary, color = [\"cell_type\", \"cluster assignment\", \"sample\", \"macaque_id\"], return_fig = True)\n",
    "\n",
    "ARI, NMI, Purity = [metric(temporary.obs['cell_type'], temporary.obs['cluster assignment']) for metric in metrics_]\n",
    "\n",
    "print(\"CarDEC Denoising Results using all denoised features\")\n",
    "print (\"ARI = {0:.4f}\".format(ARI)) \n",
    "print (\"NMI = {0:.4f}\".format(NMI)) \n",
    "print (\"Purity = {0:.4f}\".format(Purity))"
   ]
  }
 ],
 "metadata": {
  "colab": {
   "collapsed_sections": [],
   "name": "CarDEC Macaque Basic Example.ipynb",
   "provenance": []
  },
  "kernelspec": {
   "display_name": "cardec",
   "language": "python",
   "name": "python3"
  },
  "language_info": {
   "codemirror_mode": {
    "name": "ipython",
    "version": 3
   },
   "file_extension": ".py",
   "mimetype": "text/x-python",
   "name": "python",
   "nbconvert_exporter": "python",
   "pygments_lexer": "ipython3",
   "version": "3.10.13"
  }
 },
 "nbformat": 4,
 "nbformat_minor": 0
}
