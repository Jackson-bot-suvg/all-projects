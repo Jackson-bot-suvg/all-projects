{
 "cells": [
  {
   "cell_type": "markdown",
   "metadata": {},
   "source": [
    "https://chatgpt.com/canvas/shared/67ac31ddc9b081919abfb9ac86613635"
   ]
  },
  {
   "cell_type": "code",
   "execution_count": 1,
   "metadata": {},
   "outputs": [
    {
     "ename": "RuntimeError",
     "evalue": "module compiled against API version 0x10 but this version of numpy is 0xd . Check the section C-API incompatibility at the Troubleshooting ImportError section at https://numpy.org/devdocs/user/troubleshooting-importerror.html#c-api-incompatibility for indications on how to solve this problem .",
     "output_type": "error",
     "traceback": [
      "\u001b[0;31m---------------------------------------------------------------------------\u001b[0m",
      "\u001b[0;31mRuntimeError\u001b[0m                              Traceback (most recent call last)",
      "\u001b[0;31mRuntimeError\u001b[0m: module compiled against API version 0x10 but this version of numpy is 0xd . Check the section C-API incompatibility at the Troubleshooting ImportError section at https://numpy.org/devdocs/user/troubleshooting-importerror.html#c-api-incompatibility for indications on how to solve this problem ."
     ]
    },
    {
     "ename": "AttributeError",
     "evalue": "module 'pandas.arrays' has no attribute 'BooleanArray'",
     "output_type": "error",
     "traceback": [
      "\u001b[0;31m---------------------------------------------------------------------------\u001b[0m",
      "\u001b[0;31mAttributeError\u001b[0m                            Traceback (most recent call last)",
      "Cell \u001b[0;32mIn[1], line 1\u001b[0m\n\u001b[0;32m----> 1\u001b[0m \u001b[38;5;28;01mimport\u001b[39;00m \u001b[38;5;21;01mdesc\u001b[39;00m \u001b[38;5;28;01mas\u001b[39;00m \u001b[38;5;21;01mDESC\u001b[39;00m\n\u001b[1;32m      2\u001b[0m \u001b[38;5;28;01mimport\u001b[39;00m \u001b[38;5;21;01mscanpy\u001b[39;00m \u001b[38;5;28;01mas\u001b[39;00m \u001b[38;5;21;01msc\u001b[39;00m\n\u001b[1;32m      3\u001b[0m \u001b[38;5;28mprint\u001b[39m(\u001b[38;5;124m\"\u001b[39m\u001b[38;5;124mScanpy version:\u001b[39m\u001b[38;5;124m\"\u001b[39m, sc\u001b[38;5;241m.\u001b[39m__version__)\n",
      "File \u001b[0;32m/opt/anaconda3/envs/pytorch/lib/python3.8/site-packages/desc/__init__.py:2\u001b[0m\n\u001b[1;32m      1\u001b[0m \u001b[38;5;66;03m#from . import original as og\u001b[39;00m\n\u001b[0;32m----> 2\u001b[0m \u001b[38;5;28;01mfrom\u001b[39;00m \u001b[38;5;21;01m.\u001b[39;00m \u001b[38;5;28;01mimport\u001b[39;00m tools\n\u001b[1;32m      3\u001b[0m \u001b[38;5;28;01mfrom\u001b[39;00m \u001b[38;5;21;01m.\u001b[39;00m \u001b[38;5;28;01mimport\u001b[39;00m models\n\u001b[1;32m      4\u001b[0m \u001b[38;5;28;01mfrom\u001b[39;00m \u001b[38;5;21;01m.\u001b[39;00m \u001b[38;5;28;01mimport\u001b[39;00m datasets\n",
      "File \u001b[0;32m/opt/anaconda3/envs/pytorch/lib/python3.8/site-packages/desc/tools/__init__.py:1\u001b[0m\n\u001b[0;32m----> 1\u001b[0m \u001b[38;5;28;01mfrom\u001b[39;00m \u001b[38;5;21;01manndata\u001b[39;00m \u001b[38;5;28;01mimport\u001b[39;00m read_h5ad\n\u001b[1;32m      2\u001b[0m \u001b[38;5;28;01mfrom\u001b[39;00m \u001b[38;5;21;01mscanpy\u001b[39;00m\u001b[38;5;21;01m.\u001b[39;00m\u001b[38;5;21;01mpreprocessing\u001b[39;00m \u001b[38;5;28;01mimport\u001b[39;00m normalize_per_cell, highly_variable_genes, log1p, scale\n\u001b[1;32m      4\u001b[0m \u001b[38;5;28;01mfrom\u001b[39;00m \u001b[38;5;21;01m.\u001b[39;00m\u001b[38;5;21;01mtest\u001b[39;00m \u001b[38;5;28;01mimport\u001b[39;00m run_desc_test\n",
      "File \u001b[0;32m/opt/anaconda3/envs/pytorch/lib/python3.8/site-packages/anndata/__init__.py:10\u001b[0m\n\u001b[1;32m      8\u001b[0m \u001b[38;5;28;01mfrom\u001b[39;00m \u001b[38;5;21;01m.\u001b[39;00m\u001b[38;5;21;01m_core\u001b[39;00m\u001b[38;5;21;01m.\u001b[39;00m\u001b[38;5;21;01mmerge\u001b[39;00m \u001b[38;5;28;01mimport\u001b[39;00m concat\n\u001b[1;32m      9\u001b[0m \u001b[38;5;28;01mfrom\u001b[39;00m \u001b[38;5;21;01m.\u001b[39;00m\u001b[38;5;21;01m_core\u001b[39;00m\u001b[38;5;21;01m.\u001b[39;00m\u001b[38;5;21;01mraw\u001b[39;00m \u001b[38;5;28;01mimport\u001b[39;00m Raw\n\u001b[0;32m---> 10\u001b[0m \u001b[38;5;28;01mfrom\u001b[39;00m \u001b[38;5;21;01m.\u001b[39;00m\u001b[38;5;21;01m_io\u001b[39;00m \u001b[38;5;28;01mimport\u001b[39;00m (\n\u001b[1;32m     11\u001b[0m     read_h5ad,\n\u001b[1;32m     12\u001b[0m     read_loom,\n\u001b[1;32m     13\u001b[0m     read_hdf,\n\u001b[1;32m     14\u001b[0m     read_excel,\n\u001b[1;32m     15\u001b[0m     read_umi_tools,\n\u001b[1;32m     16\u001b[0m     read_csv,\n\u001b[1;32m     17\u001b[0m     read_text,\n\u001b[1;32m     18\u001b[0m     read_mtx,\n\u001b[1;32m     19\u001b[0m     read_zarr,\n\u001b[1;32m     20\u001b[0m )\n\u001b[1;32m     21\u001b[0m \u001b[38;5;28;01mfrom\u001b[39;00m \u001b[38;5;21;01m.\u001b[39;00m\u001b[38;5;21;01m_warnings\u001b[39;00m \u001b[38;5;28;01mimport\u001b[39;00m (\n\u001b[1;32m     22\u001b[0m     OldFormatWarning,\n\u001b[1;32m     23\u001b[0m     WriteWarning,\n\u001b[1;32m     24\u001b[0m     ImplicitModificationWarning,\n\u001b[1;32m     25\u001b[0m     ExperimentalFeatureWarning,\n\u001b[1;32m     26\u001b[0m )\n\u001b[1;32m     28\u001b[0m \u001b[38;5;66;03m# backwards compat / shortcut for default format\u001b[39;00m\n",
      "File \u001b[0;32m/opt/anaconda3/envs/pytorch/lib/python3.8/site-packages/anndata/_io/__init__.py:1\u001b[0m\n\u001b[0;32m----> 1\u001b[0m \u001b[38;5;28;01mfrom\u001b[39;00m \u001b[38;5;21;01m.\u001b[39;00m\u001b[38;5;21;01mread\u001b[39;00m \u001b[38;5;28;01mimport\u001b[39;00m (\n\u001b[1;32m      2\u001b[0m     read_csv,\n\u001b[1;32m      3\u001b[0m     read_excel,\n\u001b[1;32m      4\u001b[0m     read_umi_tools,\n\u001b[1;32m      5\u001b[0m     read_hdf,\n\u001b[1;32m      6\u001b[0m     read_loom,\n\u001b[1;32m      7\u001b[0m     read_mtx,\n\u001b[1;32m      8\u001b[0m     read_text,\n\u001b[1;32m      9\u001b[0m     read_zarr,\n\u001b[1;32m     10\u001b[0m     read_h5ad,\n\u001b[1;32m     11\u001b[0m )\n\u001b[1;32m     12\u001b[0m \u001b[38;5;28;01mfrom\u001b[39;00m \u001b[38;5;21;01m.\u001b[39;00m\u001b[38;5;21;01mwrite\u001b[39;00m \u001b[38;5;28;01mimport\u001b[39;00m write_csvs, write_loom, _write_h5ad, write_zarr\n\u001b[1;32m     13\u001b[0m \u001b[38;5;28;01mfrom\u001b[39;00m \u001b[38;5;21;01m.\u001b[39;00m \u001b[38;5;28;01mimport\u001b[39;00m h5ad\n",
      "File \u001b[0;32m/opt/anaconda3/envs/pytorch/lib/python3.8/site-packages/anndata/_io/read.py:19\u001b[0m\n\u001b[1;32m     17\u001b[0m \u001b[38;5;28;01mfrom\u001b[39;00m \u001b[38;5;21;01m.\u001b[39;00m\u001b[38;5;21;01m.\u001b[39;00m\u001b[38;5;21;01mcompat\u001b[39;00m \u001b[38;5;28;01mimport\u001b[39;00m _deprecate_positional_args\n\u001b[1;32m     18\u001b[0m \u001b[38;5;28;01mfrom\u001b[39;00m \u001b[38;5;21;01m.\u001b[39;00m\u001b[38;5;21;01mutils\u001b[39;00m \u001b[38;5;28;01mimport\u001b[39;00m is_float\n\u001b[0;32m---> 19\u001b[0m \u001b[38;5;28;01mfrom\u001b[39;00m \u001b[38;5;21;01m.\u001b[39;00m\u001b[38;5;21;01mh5ad\u001b[39;00m \u001b[38;5;28;01mimport\u001b[39;00m read_h5ad\n\u001b[1;32m     21\u001b[0m \u001b[38;5;28;01mtry\u001b[39;00m:\n\u001b[1;32m     22\u001b[0m     \u001b[38;5;28;01mfrom\u001b[39;00m \u001b[38;5;21;01m.\u001b[39;00m\u001b[38;5;21;01mzarr\u001b[39;00m \u001b[38;5;28;01mimport\u001b[39;00m read_zarr\n",
      "File \u001b[0;32m/opt/anaconda3/envs/pytorch/lib/python3.8/site-packages/anndata/_io/h5ad.py:22\u001b[0m\n\u001b[1;32m     16\u001b[0m \u001b[38;5;28;01mfrom\u001b[39;00m \u001b[38;5;21;01m.\u001b[39;00m\u001b[38;5;21;01m.\u001b[39;00m\u001b[38;5;21;01m_core\u001b[39;00m\u001b[38;5;21;01m.\u001b[39;00m\u001b[38;5;21;01manndata\u001b[39;00m \u001b[38;5;28;01mimport\u001b[39;00m AnnData\n\u001b[1;32m     17\u001b[0m \u001b[38;5;28;01mfrom\u001b[39;00m \u001b[38;5;21;01m.\u001b[39;00m\u001b[38;5;21;01m.\u001b[39;00m\u001b[38;5;21;01mcompat\u001b[39;00m \u001b[38;5;28;01mimport\u001b[39;00m (\n\u001b[1;32m     18\u001b[0m     _from_fixed_length_strings,\n\u001b[1;32m     19\u001b[0m     _decode_structured_array,\n\u001b[1;32m     20\u001b[0m     _clean_uns,\n\u001b[1;32m     21\u001b[0m )\n\u001b[0;32m---> 22\u001b[0m \u001b[38;5;28;01mfrom\u001b[39;00m \u001b[38;5;21;01m.\u001b[39;00m\u001b[38;5;21;01m.\u001b[39;00m\u001b[38;5;21;01mexperimental\u001b[39;00m \u001b[38;5;28;01mimport\u001b[39;00m read_dispatched\n\u001b[1;32m     23\u001b[0m \u001b[38;5;28;01mfrom\u001b[39;00m \u001b[38;5;21;01m.\u001b[39;00m\u001b[38;5;21;01mutils\u001b[39;00m \u001b[38;5;28;01mimport\u001b[39;00m (\n\u001b[1;32m     24\u001b[0m     H5PY_V3,\n\u001b[1;32m     25\u001b[0m     report_read_key_on_error,\n\u001b[0;32m   (...)\u001b[0m\n\u001b[1;32m     28\u001b[0m     _read_legacy_raw,\n\u001b[1;32m     29\u001b[0m )\n\u001b[1;32m     30\u001b[0m \u001b[38;5;28;01mfrom\u001b[39;00m \u001b[38;5;21;01m.\u001b[39;00m\u001b[38;5;21;01mspecs\u001b[39;00m \u001b[38;5;28;01mimport\u001b[39;00m read_elem, write_elem\n",
      "File \u001b[0;32m/opt/anaconda3/envs/pytorch/lib/python3.8/site-packages/anndata/experimental/__init__.py:9\u001b[0m\n\u001b[1;32m      6\u001b[0m \u001b[38;5;28;01mfrom\u001b[39;00m \u001b[38;5;21;01m.\u001b[39;00m\u001b[38;5;21;01mmulti_files\u001b[39;00m \u001b[38;5;28;01mimport\u001b[39;00m AnnCollection\n\u001b[1;32m      7\u001b[0m \u001b[38;5;28;01mfrom\u001b[39;00m \u001b[38;5;21;01m.\u001b[39;00m\u001b[38;5;21;01mpytorch\u001b[39;00m \u001b[38;5;28;01mimport\u001b[39;00m AnnLoader\n\u001b[0;32m----> 9\u001b[0m \u001b[38;5;28;01mfrom\u001b[39;00m \u001b[38;5;21;01manndata\u001b[39;00m\u001b[38;5;21;01m.\u001b[39;00m\u001b[38;5;21;01m_io\u001b[39;00m\u001b[38;5;21;01m.\u001b[39;00m\u001b[38;5;21;01mspecs\u001b[39;00m \u001b[38;5;28;01mimport\u001b[39;00m read_elem, write_elem, IOSpec\n\u001b[1;32m     10\u001b[0m \u001b[38;5;28;01mfrom\u001b[39;00m \u001b[38;5;21;01manndata\u001b[39;00m\u001b[38;5;21;01m.\u001b[39;00m\u001b[38;5;21;01m_types\u001b[39;00m \u001b[38;5;28;01mimport\u001b[39;00m StorageType, GroupStorageType\n\u001b[1;32m     12\u001b[0m __all__ \u001b[38;5;241m=\u001b[39m [\n\u001b[1;32m     13\u001b[0m     \u001b[38;5;124m\"\u001b[39m\u001b[38;5;124mAnnCollection\u001b[39m\u001b[38;5;124m\"\u001b[39m,\n\u001b[1;32m     14\u001b[0m     \u001b[38;5;124m\"\u001b[39m\u001b[38;5;124mAnnLoader\u001b[39m\u001b[38;5;124m\"\u001b[39m,\n\u001b[0;32m   (...)\u001b[0m\n\u001b[1;32m     19\u001b[0m     \u001b[38;5;124m\"\u001b[39m\u001b[38;5;124mIOSpec\u001b[39m\u001b[38;5;124m\"\u001b[39m,\n\u001b[1;32m     20\u001b[0m ]\n",
      "File \u001b[0;32m/opt/anaconda3/envs/pytorch/lib/python3.8/site-packages/anndata/_io/specs/__init__.py:1\u001b[0m\n\u001b[0;32m----> 1\u001b[0m \u001b[38;5;28;01mfrom\u001b[39;00m \u001b[38;5;21;01m.\u001b[39;00m \u001b[38;5;28;01mimport\u001b[39;00m methods\n\u001b[1;32m      2\u001b[0m \u001b[38;5;28;01mfrom\u001b[39;00m \u001b[38;5;21;01m.\u001b[39;00m\u001b[38;5;21;01mregistry\u001b[39;00m \u001b[38;5;28;01mimport\u001b[39;00m write_elem, get_spec, read_elem, _REGISTRY, Reader, Writer, IOSpec\n",
      "File \u001b[0;32m/opt/anaconda3/envs/pytorch/lib/python3.8/site-packages/anndata/_io/specs/methods.py:721\u001b[0m\n\u001b[1;32m    702\u001b[0m     \u001b[38;5;28;01mreturn\u001b[39;00m pd\u001b[38;5;241m.\u001b[39mCategorical\u001b[38;5;241m.\u001b[39mfrom_codes(\n\u001b[1;32m    703\u001b[0m         codes\u001b[38;5;241m=\u001b[39mread_elem_partial(elem[\u001b[38;5;124m\"\u001b[39m\u001b[38;5;124mcodes\u001b[39m\u001b[38;5;124m\"\u001b[39m], indices\u001b[38;5;241m=\u001b[39mindices),\n\u001b[1;32m    704\u001b[0m         categories\u001b[38;5;241m=\u001b[39mread_elem(elem[\u001b[38;5;124m\"\u001b[39m\u001b[38;5;124mcategories\u001b[39m\u001b[38;5;124m\"\u001b[39m]),\n\u001b[1;32m    705\u001b[0m         ordered\u001b[38;5;241m=\u001b[39m\u001b[38;5;28mbool\u001b[39m(_read_attr(elem\u001b[38;5;241m.\u001b[39mattrs, \u001b[38;5;124m\"\u001b[39m\u001b[38;5;124mordered\u001b[39m\u001b[38;5;124m\"\u001b[39m)),\n\u001b[1;32m    706\u001b[0m     )\n\u001b[1;32m    709\u001b[0m \u001b[38;5;66;03m####################\u001b[39;00m\n\u001b[1;32m    710\u001b[0m \u001b[38;5;66;03m# Pandas nullables #\u001b[39;00m\n\u001b[1;32m    711\u001b[0m \u001b[38;5;66;03m####################\u001b[39;00m\n\u001b[1;32m    714\u001b[0m \u001b[38;5;129m@_REGISTRY\u001b[39m\u001b[38;5;241m.\u001b[39mregister_write(\n\u001b[1;32m    715\u001b[0m     H5Group, pd\u001b[38;5;241m.\u001b[39marrays\u001b[38;5;241m.\u001b[39mIntegerArray, IOSpec(\u001b[38;5;124m\"\u001b[39m\u001b[38;5;124mnullable-integer\u001b[39m\u001b[38;5;124m\"\u001b[39m, \u001b[38;5;124m\"\u001b[39m\u001b[38;5;124m0.1.0\u001b[39m\u001b[38;5;124m\"\u001b[39m)\n\u001b[1;32m    716\u001b[0m )\n\u001b[1;32m    717\u001b[0m \u001b[38;5;129m@_REGISTRY\u001b[39m\u001b[38;5;241m.\u001b[39mregister_write(\n\u001b[1;32m    718\u001b[0m     ZarrGroup, pd\u001b[38;5;241m.\u001b[39marrays\u001b[38;5;241m.\u001b[39mIntegerArray, IOSpec(\u001b[38;5;124m\"\u001b[39m\u001b[38;5;124mnullable-integer\u001b[39m\u001b[38;5;124m\"\u001b[39m, \u001b[38;5;124m\"\u001b[39m\u001b[38;5;124m0.1.0\u001b[39m\u001b[38;5;124m\"\u001b[39m)\n\u001b[1;32m    719\u001b[0m )\n\u001b[1;32m    720\u001b[0m \u001b[38;5;129m@_REGISTRY\u001b[39m\u001b[38;5;241m.\u001b[39mregister_write(\n\u001b[0;32m--> 721\u001b[0m     H5Group, \u001b[43mpd\u001b[49m\u001b[38;5;241;43m.\u001b[39;49m\u001b[43marrays\u001b[49m\u001b[38;5;241;43m.\u001b[39;49m\u001b[43mBooleanArray\u001b[49m, IOSpec(\u001b[38;5;124m\"\u001b[39m\u001b[38;5;124mnullable-boolean\u001b[39m\u001b[38;5;124m\"\u001b[39m, \u001b[38;5;124m\"\u001b[39m\u001b[38;5;124m0.1.0\u001b[39m\u001b[38;5;124m\"\u001b[39m)\n\u001b[1;32m    722\u001b[0m )\n\u001b[1;32m    723\u001b[0m \u001b[38;5;129m@_REGISTRY\u001b[39m\u001b[38;5;241m.\u001b[39mregister_write(\n\u001b[1;32m    724\u001b[0m     ZarrGroup, pd\u001b[38;5;241m.\u001b[39marrays\u001b[38;5;241m.\u001b[39mBooleanArray, IOSpec(\u001b[38;5;124m\"\u001b[39m\u001b[38;5;124mnullable-boolean\u001b[39m\u001b[38;5;124m\"\u001b[39m, \u001b[38;5;124m\"\u001b[39m\u001b[38;5;124m0.1.0\u001b[39m\u001b[38;5;124m\"\u001b[39m)\n\u001b[1;32m    725\u001b[0m )\n\u001b[1;32m    726\u001b[0m \u001b[38;5;28;01mdef\u001b[39;00m \u001b[38;5;21mwrite_nullable_integer\u001b[39m(f, k, v, _writer, dataset_kwargs\u001b[38;5;241m=\u001b[39mMappingProxyType({})):\n\u001b[1;32m    727\u001b[0m     g \u001b[38;5;241m=\u001b[39m f\u001b[38;5;241m.\u001b[39mcreate_group(k)\n\u001b[1;32m    728\u001b[0m     \u001b[38;5;28;01mif\u001b[39;00m v\u001b[38;5;241m.\u001b[39m_mask \u001b[38;5;129;01mis\u001b[39;00m \u001b[38;5;129;01mnot\u001b[39;00m \u001b[38;5;28;01mNone\u001b[39;00m:\n",
      "\u001b[0;31mAttributeError\u001b[0m: module 'pandas.arrays' has no attribute 'BooleanArray'"
     ]
    }
   ],
   "source": [
    "import desc as DESC\n",
    "import scanpy as sc\n",
    "print(\"Scanpy version:\", sc.__version__)\n",
    "print(\"DESC version:\", DESC.__version__)\n"
   ]
  },
  {
   "cell_type": "code",
   "execution_count": null,
   "metadata": {},
   "outputs": [],
   "source": [
    "# 导入所需模块\n",
    "import desc as DESC\n",
    "import numpy as np\n",
    "import pandas as pd\n",
    "import scanpy as sc\n",
    "print(sc.__version__)\n",
    "# 应当输出 1.4.5\n",
    "\n",
    "import matplotlib.pyplot as plt\n",
    "\n",
    "# 配置 matplotlib 和 Scanpy\n",
    "%matplotlib inline\n",
    "sc.settings.verbosity = 3  # 设置详细程度：errors (0), warnings (1), info (2), hints (3)\n",
    "sc.logging.print_versions()  # 打印版本信息\n",
    "\n"
   ]
  },
  {
   "cell_type": "code",
   "execution_count": null,
   "metadata": {},
   "outputs": [],
   "source": [
    "import scanpy as sc\n",
    "\n",
    "# 使用 scanpy 加载 10X 数据\n",
    "adata = sc.read_10x_mtx(\n",
    "    'filtered_gene_bc_matrices/hg19',  # 数据路径\n",
    "    var_names='gene_symbols',  # 使用基因符号作为变量名\n",
    "    cache=True  # 缓存解析后的结果\n",
    ")\n",
    "\n",
    "# 确保变量名唯一\n",
    "adata.var_names_make_unique()\n",
    "\n",
    "# 检查数据概况\n",
    "print(f\"Data contains {adata.n_obs} cells and {adata.n_vars} genes.\")\n"
   ]
  },
  {
   "cell_type": "code",
   "execution_count": null,
   "metadata": {},
   "outputs": [],
   "source": [
    "import numpy as np\n",
    "import scanpy as sc\n",
    "import matplotlib.pyplot as plt\n",
    "\n",
    "# 1. 加载 PBMC 数据\n",
    "adata = sc.read_10x_mtx(\n",
    "    'filtered_gene_bc_matrices/hg19',  # 数据路径\n",
    "    var_names='gene_symbols',         # 使用基因符号作为变量名\n",
    "    cache=True                        # 缓存解析后的结果\n",
    ")\n",
    "\n",
    "# 打印初始数据概况\n",
    "print(f\"Initial dataset: {adata.n_obs} cells and {adata.n_vars} genes.\")\n",
    "print(adata)\n",
    "\n",
    "# 2.1 过滤细胞和基因\n",
    "# 移除表达基因少于 200 的细胞\n",
    "sc.pp.filter_cells(adata, min_genes=200)\n",
    "# 移除在少于 3 个细胞中检测到的基因\n",
    "sc.pp.filter_genes(adata, min_cells=3)\n",
    "\n",
    "# 打印过滤后数据概况\n",
    "print(f\"After filtering: {adata.n_obs} cells and {adata.n_vars} genes.\")\n",
    "print(adata)\n",
    "\n",
    "# 计算线粒体基因的表达比例\n",
    "mito_genes = adata.var_names.str.startswith('MT-')  # 查找以 \"MT-\" 开头的基因\n",
    "adata.obs['percent_mito'] = np.sum(\n",
    "    adata[:, mito_genes].X, axis=1).A1 / np.sum(adata.X, axis=1).A1\n",
    "\n",
    "# 添加每个细胞的总计数和基因数作为注释\n",
    "adata.obs['n_counts'] = adata.X.sum(axis=1).A1  # 每个细胞的总 UMI 数量\n",
    "\n",
    "# 绘制小提琴图，展示基因数、UMI 总数和线粒体基因比例的分布\n",
    "sc.pl.violin(adata, ['n_genes', 'n_counts', 'percent_mito'], jitter=0.4, multi_panel=True)\n",
    "\n",
    "# 过滤低质量细胞\n",
    "# 移除基因数高于 2500 的细胞（可能是双细胞）\n",
    "adata = adata[adata.obs['n_genes'] < 2500, :]\n",
    "# 移除线粒体基因比例超过 5% 的细胞\n",
    "adata = adata[adata.obs['percent_mito'] < 0.05, :]\n",
    "\n",
    "# 打印过滤后数据概况\n",
    "print(f\"After QC filtering: {adata.n_obs} cells and {adata.n_vars} genes.\")\n",
    "print(adata)\n"
   ]
  },
  {
   "cell_type": "code",
   "execution_count": null,
   "metadata": {},
   "outputs": [],
   "source": [
    "# 2.2 Normalization\n",
    "# 使用 DESC 的 normalize_per_cell 函数对每个细胞进行归一化\n",
    "DESC.normalize_per_cell(adata, counts_per_cell_after=1e4)\n",
    "\n",
    "# 或者使用 scanpy 的标准化方法\n",
    "# sc.pp.normalize_per_cell(adata, counts_per_cell_after=1e4)\n",
    "\n",
    "# 打印归一化完成后的数据概况\n",
    "print(\"Normalization complete.\")\n",
    "print(f\"Dataset now contains {adata.n_obs} cells and {adata.n_vars} genes.\")\n"
   ]
  },
  {
   "cell_type": "code",
   "execution_count": null,
   "metadata": {},
   "outputs": [],
   "source": [
    "# 2.3 Logarithm Transformation\n",
    "# 使用 DESC 提供的 log1p 函数对数据进行对数变换\n",
    "DESC.log1p(adata)\n",
    "\n",
    "# 或者使用 scanpy 提供的 log1p 函数\n",
    "# sc.pp.log1p(adata)\n",
    "\n",
    "# 将对数变换后的数据保存到 .raw 属性\n",
    "# 这样可以用于后续分析（例如差异表达分析或伪时间分析）\n",
    "adata.raw = adata\n",
    "\n",
    "# 打印完成对数变换后的数据概况\n",
    "print(\"Logarithm transformation complete. Data is now stored in `adata.raw` for downstream analysis.\")\n",
    "print(f\"Dataset now contains {adata.n_obs} cells and {adata.n_vars} genes.\")\n"
   ]
  },
  {
   "cell_type": "code",
   "execution_count": null,
   "metadata": {},
   "outputs": [],
   "source": [
    "\n",
    "# 2.4 选择高变基因\n",
    "sc.pp.highly_variable_genes(adata, min_mean=0.0125, max_mean=3, min_disp=0.5, subset=True)\n",
    "print(f\"Number of highly variable genes selected: {adata.shape[1]}\")\n",
    "\n",
    "# 2.5 数据标准化\n",
    "DESC.scale(adata, zero_center=True, max_value=3)\n",
    "print(\"Preprocessing complete.\")\n",
    "print(f\"Final dataset: {adata.n_obs} cells and {adata.n_vars} highly variable genes.\")\n"
   ]
  },
  {
   "cell_type": "code",
   "execution_count": null,
   "metadata": {},
   "outputs": [],
   "source": [
    "# DESC 模型训练\n",
    "adata = DESC.train(\n",
    "    adata,\n",
    "    dims=[adata.shape[1], 32, 16],  # 定义网络层结构\n",
    "    tol=0.005,                      # 训练的早停阈值\n",
    "    n_neighbors=10,                 # 邻居数量\n",
    "    batch_size=256,                 # 每批次训练的样本数量\n",
    "    louvain_resolution=[0.8],       # Louvain 聚类的分辨率\n",
    "    save_dir=\"result_pbmc3k\",       # 结果保存路径\n",
    "    do_tsne=True,                   # 是否计算 tSNE\n",
    "    learning_rate=300,              # 学习率\n",
    "    do_umap=True,                   # 是否计算 UMAP\n",
    "    num_Cores_tsne=4,               # tSNE 的核心数量\n",
    "    save_encoder_weights=True       # 是否保存编码器权重\n",
    ")\n",
    "\n",
    "# 打印训练完成的信息\n",
    "print(\"DESC analysis complete.\")\n",
    "print(f\"Clustering results and embeddings are now stored in the `adata` object.\")\n"
   ]
  }
 ],
 "metadata": {
  "kernelspec": {
   "display_name": "pytorch",
   "language": "python",
   "name": "python3"
  },
  "language_info": {
   "codemirror_mode": {
    "name": "ipython",
    "version": 3
   },
   "file_extension": ".py",
   "mimetype": "text/x-python",
   "name": "python",
   "nbconvert_exporter": "python",
   "pygments_lexer": "ipython3",
   "version": "3.8.20"
  }
 },
 "nbformat": 4,
 "nbformat_minor": 2
}
